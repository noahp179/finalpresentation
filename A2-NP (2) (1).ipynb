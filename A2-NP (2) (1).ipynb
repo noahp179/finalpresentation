{
 "cells": [
  {
   "cell_type": "markdown",
   "id": "a97cd05a",
   "metadata": {},
   "source": [
    "# Credit Card Fraud Dataset\n",
    "## About The Dataset\n",
    "This dataset is very popular for all kinds of machine learning cyber security techniques. This dataset contains simulated credit card transactions with legitimate and fraudulent transactions. It covers credit cards of over 1000 customers transactions with a pool of 800 merchants.\n",
    "\n",
    "## Key Details:\n",
    "Number of Instances: The dataset consists of 1.3 million instances.\n",
    "Number of Features: There are 23 different features that help describe the inidividual transactions making them all unique.\n",
    "Target Variable: The target variable in the dataset is is_fraud, representing the if the transaction actually was fraudulent.\n",
    "\n",
    "### Data Types:\n",
    "The features include both numerical and categorical variables.\n",
    "They cover a wide range of aspects such as transaction time, credit card number, zip code of the transaction, merchant details and more.\n",
    "\n",
    "### Applications:\n",
    "The Credit Card Fraud Dataset is widely used in the machine learning community for:\n",
    "- Cyber Security\n",
    "\n",
    "## Binary Modeling: Predicting likelyhood that a transaction is Fraudulent\n",
    "Feature Engineering: Developing and testing new techniques to handle numerical and categorical data.\n",
    "Predictive Analytics: Analyzing previous transactions and predicting if a transaction is fraudulent."
   ]
  },
  {
   "cell_type": "markdown",
   "id": "f51ff48e-880f-4d3c-b98e-a5bde6af8441",
   "metadata": {},
   "source": [
    "# STEP 1\n",
    "Importing all necessary libraries and setup"
   ]
  },
  {
   "cell_type": "code",
   "execution_count": 1,
   "id": "00bb04c0-a627-4834-83da-7f2f21b6052a",
   "metadata": {},
   "outputs": [
    {
     "name": "stderr",
     "output_type": "stream",
     "text": [
      "Matplotlib is building the font cache; this may take a moment.\n",
      "/home/ec2-user/anaconda3/envs/python3/lib/python3.10/site-packages/pydantic/_internal/_fields.py:192: UserWarning: Field name \"json\" in \"MonitoringDatasetFormat\" shadows an attribute in parent \"Base\"\n",
      "  warnings.warn(\n"
     ]
    },
    {
     "data": {
      "text/html": [
       "<pre style=\"white-space:pre;overflow-x:auto;line-height:normal;font-family:Menlo,'DejaVu Sans Mono',consolas,'Courier New',monospace\"><span style=\"color: #7fbfbf; text-decoration-color: #7fbfbf\">[03/25/25 21:15:04] </span><span style=\"color: #0069ff; text-decoration-color: #0069ff; font-weight: bold\">INFO    </span> Found credentials from IAM Role:                                   <a href=\"file:///home/ec2-user/anaconda3/envs/python3/lib/python3.10/site-packages/botocore/credentials.py\" target=\"_blank\"><span style=\"color: #7f7f7f; text-decoration-color: #7f7f7f\">credentials.py</span></a><span style=\"color: #7f7f7f; text-decoration-color: #7f7f7f\">:</span><a href=\"file:///home/ec2-user/anaconda3/envs/python3/lib/python3.10/site-packages/botocore/credentials.py#1132\" target=\"_blank\"><span style=\"color: #7f7f7f; text-decoration-color: #7f7f7f\">1132</span></a>\n",
       "<span style=\"color: #7fbfbf; text-decoration-color: #7fbfbf\">                    </span>         BaseNotebookInstanceEc2InstanceRole                                <span style=\"color: #7f7f7f; text-decoration-color: #7f7f7f\">                   </span>\n",
       "</pre>\n"
      ],
      "text/plain": [
       "\u001b[2;36m[03/25/25 21:15:04]\u001b[0m\u001b[2;36m \u001b[0m\u001b[1;38;2;0;105;255mINFO    \u001b[0m Found credentials from IAM Role:                                   \u001b]8;id=648921;file:///home/ec2-user/anaconda3/envs/python3/lib/python3.10/site-packages/botocore/credentials.py\u001b\\\u001b[2mcredentials.py\u001b[0m\u001b]8;;\u001b\\\u001b[2m:\u001b[0m\u001b]8;id=850738;file:///home/ec2-user/anaconda3/envs/python3/lib/python3.10/site-packages/botocore/credentials.py#1132\u001b\\\u001b[2m1132\u001b[0m\u001b]8;;\u001b\\\n",
       "\u001b[2;36m                    \u001b[0m         BaseNotebookInstanceEc2InstanceRole                                \u001b[2m                   \u001b[0m\n"
      ]
     },
     "metadata": {},
     "output_type": "display_data"
    },
    {
     "name": "stdout",
     "output_type": "stream",
     "text": [
      "sagemaker.config INFO - Not applying SDK defaults from location: /etc/xdg/sagemaker/config.yaml\n",
      "sagemaker.config INFO - Not applying SDK defaults from location: /home/ec2-user/.config/sagemaker/config.yaml\n",
      "Imported Successfully!\n"
     ]
    }
   ],
   "source": [
    "# Standard Libraries\n",
    "import os\n",
    "import time\n",
    "import logging\n",
    "\n",
    "# Data Handling & Visualization Libraries\n",
    "import numpy as np\n",
    "import pandas as pd\n",
    "import matplotlib.pyplot as plt\n",
    "import seaborn as sns\n",
    "\n",
    "# Statistical Functions\n",
    "from scipy.stats import skew\n",
    "\n",
    "# Scikit-learn Libraries for Model Building & Evaluation\n",
    "from sklearn.model_selection import train_test_split\n",
    "from sklearn.metrics import (\n",
    "    accuracy_score, precision_score, recall_score, f1_score,\n",
    "    classification_report, confusion_matrix, ConfusionMatrixDisplay,\n",
    "    mean_squared_error, mean_absolute_error, r2_score\n",
    ")\n",
    "from sklearn.preprocessing import PowerTransformer, StandardScaler, MinMaxScaler, PolynomialFeatures\n",
    "\n",
    "# AWS & SageMaker Libraries for Model Training and Deployment\n",
    "import boto3\n",
    "import sagemaker\n",
    "from sagemaker import Session, get_execution_role\n",
    "from sagemaker.estimator import Estimator\n",
    "from sagemaker.amazon.linear_learner import LinearLearner  # SageMaker's built-in Linear Learner algorithm\n",
    "from sagemaker.inputs import TrainingInput\n",
    "from sagemaker.predictor import Predictor\n",
    "from sagemaker.serializers import CSVSerializer\n",
    "from sagemaker.deserializers import JSONDeserializer\n",
    "\n",
    "# Additional Libraries\n",
    "from botocore.exceptions import ClientError\n",
    "from typing import Any, List, Union\n",
    "\n",
    "# Logger Setup\n",
    "logging.basicConfig(level=logging.INFO)\n",
    "logger = logging.getLogger(__name__)\n",
    "\n",
    "# File Path and Original Target Column\n",
    "file_path = \"fraudTrain.csv\"\n",
    "original_target_col = \"is_fraud\"\n",
    "\n",
    "print(\"Imported Successfully!\")"
   ]
  },
  {
   "cell_type": "markdown",
   "id": "c6b13c9b-3fd5-45c0-b304-bbd13e58463b",
   "metadata": {},
   "source": [
    "# STEP 2\n",
    "Load the data and preview the head, the shape and the description of the data"
   ]
  },
  {
   "cell_type": "code",
   "execution_count": 3,
   "id": "083ff32a-a949-4c5f-b67a-293bc3dc6946",
   "metadata": {},
   "outputs": [
    {
     "name": "stdout",
     "output_type": "stream",
     "text": [
      "Data Loaded Successfully!\n",
      "\n",
      "   Unnamed: 0 trans_date_trans_time            cc_num  \\\n",
      "0           0   2019-01-01 00:00:18  2703186189652095   \n",
      "1           1   2019-01-01 00:00:44      630423337322   \n",
      "2           2   2019-01-01 00:00:51    38859492057661   \n",
      "3           3   2019-01-01 00:01:16  3534093764340240   \n",
      "4           4   2019-01-01 00:03:06   375534208663984   \n",
      "\n",
      "                             merchant       category     amt      first  \\\n",
      "0          fraud_Rippin, Kub and Mann       misc_net    4.97   Jennifer   \n",
      "1     fraud_Heller, Gutmann and Zieme    grocery_pos  107.23  Stephanie   \n",
      "2                fraud_Lind-Buckridge  entertainment  220.11     Edward   \n",
      "3  fraud_Kutch, Hermiston and Farrell  gas_transport   45.00     Jeremy   \n",
      "4                 fraud_Keeling-Crist       misc_pos   41.96      Tyler   \n",
      "\n",
      "      last gender                        street  ...      lat      long  \\\n",
      "0    Banks      F                561 Perry Cove  ...  36.0788  -81.1781   \n",
      "1     Gill      F  43039 Riley Greens Suite 393  ...  48.8878 -118.2105   \n",
      "2  Sanchez      M      594 White Dale Suite 530  ...  42.1808 -112.2620   \n",
      "3    White      M   9443 Cynthia Court Apt. 038  ...  46.2306 -112.1138   \n",
      "4   Garcia      M              408 Bradley Rest  ...  38.4207  -79.4629   \n",
      "\n",
      "   city_pop                                job         dob  \\\n",
      "0      3495          Psychologist, counselling  1988-03-09   \n",
      "1       149  Special educational needs teacher  1978-06-21   \n",
      "2      4154        Nature conservation officer  1962-01-19   \n",
      "3      1939                    Patent attorney  1967-01-12   \n",
      "4        99     Dance movement psychotherapist  1986-03-28   \n",
      "\n",
      "                          trans_num   unix_time  merch_lat  merch_long  \\\n",
      "0  0b242abb623afc578575680df30655b9  1325376018  36.011293  -82.048315   \n",
      "1  1f76529f8574734946361c461b024d99  1325376044  49.159047 -118.186462   \n",
      "2  a1a22d70485983eac12b5b88dad1cf95  1325376051  43.150704 -112.154481   \n",
      "3  6b849c168bdad6f867558c3793159a81  1325376076  47.034331 -112.561071   \n",
      "4  a41d7549acf90789359a9aa5346dcb46  1325376186  38.674999  -78.632459   \n",
      "\n",
      "   is_fraud  \n",
      "0         0  \n",
      "1         0  \n",
      "2         0  \n",
      "3         0  \n",
      "4         0  \n",
      "\n",
      "[5 rows x 23 columns]\n",
      "<class 'pandas.core.frame.DataFrame'>\n",
      "RangeIndex: 1296675 entries, 0 to 1296674\n",
      "Data columns (total 23 columns):\n",
      " #   Column                 Non-Null Count    Dtype  \n",
      "---  ------                 --------------    -----  \n",
      " 0   Unnamed: 0             1296675 non-null  int64  \n",
      " 1   trans_date_trans_time  1296675 non-null  object \n",
      " 2   cc_num                 1296675 non-null  int64  \n",
      " 3   merchant               1296675 non-null  object \n",
      " 4   category               1296675 non-null  object \n",
      " 5   amt                    1296675 non-null  float64\n",
      " 6   first                  1296675 non-null  object \n",
      " 7   last                   1296675 non-null  object \n",
      " 8   gender                 1296675 non-null  object \n",
      " 9   street                 1296675 non-null  object \n",
      " 10  city                   1296675 non-null  object \n",
      " 11  state                  1296675 non-null  object \n",
      " 12  zip                    1296675 non-null  int64  \n",
      " 13  lat                    1296675 non-null  float64\n",
      " 14  long                   1296675 non-null  float64\n",
      " 15  city_pop               1296675 non-null  int64  \n",
      " 16  job                    1296675 non-null  object \n",
      " 17  dob                    1296675 non-null  object \n",
      " 18  trans_num              1296675 non-null  object \n",
      " 19  unix_time              1296675 non-null  int64  \n",
      " 20  merch_lat              1296675 non-null  float64\n",
      " 21  merch_long             1296675 non-null  float64\n",
      " 22  is_fraud               1296675 non-null  int64  \n",
      "dtypes: float64(5), int64(6), object(12)\n",
      "memory usage: 227.5+ MB\n"
     ]
    }
   ],
   "source": [
    "def load_data(filepath):\n",
    "    \"\"\"\n",
    "    Load the CSV file into a pandas DataFrame.\n",
    "    \"\"\"\n",
    "    df = pd.read_csv(filepath)\n",
    "    return df\n",
    "\n",
    "df = load_data(file_path)\n",
    "\n",
    "print(\"Data Loaded Successfully!\\n\")\n",
    "\n",
    "# Examine the first few rows\n",
    "print(df.head())\n",
    "df.info()"
   ]
  },
  {
   "cell_type": "markdown",
   "id": "4196c6f3-9b3a-4827-b35c-c938c82ab07f",
   "metadata": {},
   "source": [
    "# STEP 3: Check / Drop Columns"
   ]
  },
  {
   "cell_type": "markdown",
   "id": "f940faa8",
   "metadata": {},
   "source": [
    "### 3A\n",
    "\n",
    "In general it is very important to make sure that you data does not have a column with mass amounts of missing data. This will cause massive issues in your dataset if you were to do a data anlysis on the data there would be a massive imbalance causing lots of errors and would also make it impossible to do any type of machine learning on the dataset. \n",
    "\n",
    "I chose 15% for my specific dataset because of the high need for security, this ensures that  no column can cause any future errors when running a machine learning model and on top of that also you cannot replace that data with simulated values for almost every situation"
   ]
  },
  {
   "cell_type": "code",
   "execution_count": 4,
   "id": "5532de0c",
   "metadata": {},
   "outputs": [
    {
     "name": "stdout",
     "output_type": "stream",
     "text": [
      "Dropping columns with more than 15% missing values: []\n"
     ]
    }
   ],
   "source": [
    "def drop_high_missing_columns(dataframe, threshold=0.15):\n",
    "    \"\"\"\n",
    "    Drop columns from the DataFrame where the fraction of missing values exceeds the specified threshold.\n",
    "\n",
    "    This function calculates the percentage of missing values in each column and removes\n",
    "    those columns where the fraction of missing values is greater than the threshold. \n",
    "    This helps reduce noise and potential bias when features with too many missing values\n",
    "    might negatively impact the model's performance.\n",
    "\n",
    "    Parameters:\n",
    "        dataframe (pd.DataFrame): The input DataFrame to process.\n",
    "        threshold (float): The maximum allowable fraction of missing values for a column.\n",
    "                           Columns exceeding this threshold will be dropped (default is 0.3).\n",
    "\n",
    "    Returns:\n",
    "        pd.DataFrame: A DataFrame with columns removed that have more than the allowed missing values.\n",
    "    \"\"\"\n",
    "    # Identify columns where the proportion of missing values exceeds the threshold.\n",
    "    cols_to_drop = dataframe.columns[dataframe.isnull().mean() > threshold]\n",
    "    \n",
    "    # Print out the columns that will be dropped for transparency.\n",
    "    print(f\"Dropping columns with more than {threshold*100:.0f}% missing values: {list(cols_to_drop)}\")\n",
    "    \n",
    "    # Return a new DataFrame with the identified columns removed.\n",
    "    return dataframe.drop(columns=cols_to_drop)\n",
    "\n",
    "\n",
    "# Apply the function to the DataFrame to remove columns with too many missing values.\n",
    "df = drop_high_missing_columns(df)"
   ]
  },
  {
   "cell_type": "markdown",
   "id": "ad15b20b-a7f7-49e8-9227-c114522b5d2d",
   "metadata": {},
   "source": [
    "### 3B\n",
    "\n",
    "Now that I have dropped all columns with too much missing data I will now drop the columns that I don't belive will be necessary including:\n",
    "- Birthday - irrelevant to determe whether a transaction is fraudulent\n",
    "- Unnamed - this was the id of the transaction and has no relevance for the machine learning model\n",
    "- First/Last name - people may have identical names and it could create a bias flagging all people with the same name as fraudulent transactions if there was fraud under their name\n",
    "- City Pop / Street / Lat / Long - All of these refer to the location of the individual's home which should not have any impact on whether a transaction is fraudulent\n",
    "- Merch Long / Merch Long -  All of these refer to the exact location of the merchant which should not have an impact of identifying fraudulent transactions\n",
    "- Unix Time - Conisdering we already have a column taking time into account it would be unneccessary to have a repeat column"
   ]
  },
  {
   "cell_type": "code",
   "execution_count": 5,
   "id": "8aa16877-5707-41c3-b078-84f69a2ef675",
   "metadata": {},
   "outputs": [
    {
     "name": "stdout",
     "output_type": "stream",
     "text": [
      "Columns Dropped Successfully!\n"
     ]
    }
   ],
   "source": [
    "def drop_columns(dataframe):\n",
    "    \"\"\"\n",
    "    Drop columns that I have deemed to be irrelavnt.\n",
    "    \"\"\"\n",
    "    cols_to_drop = [\"dob\", \"Unnamed: 0\", \"first\", \"last\", \"gender\",\n",
    "                    \"street\", \"city\", \"lat\", \"long\", \"city_pop\", \"merch_lat\", \"merch_long\", \"unix_time\", \"state\", \"job\"]\n",
    "    for i in cols_to_drop:\n",
    "        dataframe.drop(columns=i, inplace=True)\n",
    "    return dataframe\n",
    "\n",
    "df = drop_columns(df)\n",
    "\n",
    "print('Columns Dropped Successfully!')"
   ]
  },
  {
   "cell_type": "markdown",
   "id": "44247dcc-30d3-43a4-8537-2f3633506638",
   "metadata": {},
   "source": [
    "# STEP 4: Remove Rows Missing the Target Variable\n",
    "\n",
    "### 4A\n",
    "I dropped all columns within this dataset that had missing target values, this is important because if the target value is missing we are unable to fill in the fill result with precision which could negatively affect the accuracy of a machine learning model if you were to train it off of the dataset."
   ]
  },
  {
   "cell_type": "code",
   "execution_count": 6,
   "id": "af8c067a",
   "metadata": {},
   "outputs": [
    {
     "name": "stdout",
     "output_type": "stream",
     "text": [
      "Dropped 0 rows with missing 'is_fraud'.\n"
     ]
    }
   ],
   "source": [
    "def drop_missing_target(dataframe, target_column):\n",
    "    \"\"\"\n",
    "    Drop rows from the DataFrame where the target variable is missing.\n",
    "\n",
    "    This function checks if the target column exists in the DataFrame.\n",
    "    If it does, rows with missing values in the target column are removed.\n",
    "    This is crucial because missing target values can cause issues during model training,\n",
    "    leading to inaccurate or biased predictions.\n",
    "\n",
    "    Parameters:\n",
    "        dataframe (pd.DataFrame): The input DataFrame to process.\n",
    "        target_column (str): The name of the target variable column.\n",
    "\n",
    "    Returns:\n",
    "        pd.DataFrame: A DataFrame with rows removed where the target variable is missing.\n",
    "    \"\"\"\n",
    "    # Check if the target column exists in the DataFrame.\n",
    "    if target_column not in dataframe.columns:\n",
    "        print(f\"Target column '{target_column}' not found.\")\n",
    "        return dataframe\n",
    "\n",
    "    # Record the number of rows before dropping missing target values.\n",
    "    before = len(dataframe)\n",
    "    \n",
    "    # Drop rows where the target column has missing values.\n",
    "    dataframe = dataframe.dropna(subset=[target_column])\n",
    "    \n",
    "    # Record the number of rows after the operation.\n",
    "    after = len(dataframe)\n",
    "    \n",
    "    # Inform the user about how many rows were dropped.\n",
    "    print(f\"Dropped {before - after} rows with missing '{target_column}'.\")\n",
    "    \n",
    "    return dataframe\n",
    "\n",
    "# Apply the function to drop rows with missing values in the target column.\n",
    "df = drop_missing_target(df, original_target_col)"
   ]
  },
  {
   "cell_type": "markdown",
   "id": "3aeb5f82",
   "metadata": {},
   "source": [
    "### 4B\n",
    "I dropped all rows within this dataset that had missing values, this is important because if there are any missing values in a row and we can't fill it in without the exact information that could completely change the actual information about the transaction which could decrease the accuracy of the machine learning model and cost the KCU money"
   ]
  },
  {
   "cell_type": "code",
   "execution_count": 7,
   "id": "c40bff02",
   "metadata": {},
   "outputs": [
    {
     "data": {
      "text/html": [
       "<div>\n",
       "<style scoped>\n",
       "    .dataframe tbody tr th:only-of-type {\n",
       "        vertical-align: middle;\n",
       "    }\n",
       "\n",
       "    .dataframe tbody tr th {\n",
       "        vertical-align: top;\n",
       "    }\n",
       "\n",
       "    .dataframe thead th {\n",
       "        text-align: right;\n",
       "    }\n",
       "</style>\n",
       "<table border=\"1\" class=\"dataframe\">\n",
       "  <thead>\n",
       "    <tr style=\"text-align: right;\">\n",
       "      <th></th>\n",
       "      <th>trans_date_trans_time</th>\n",
       "      <th>cc_num</th>\n",
       "      <th>merchant</th>\n",
       "      <th>category</th>\n",
       "      <th>amt</th>\n",
       "      <th>zip</th>\n",
       "      <th>trans_num</th>\n",
       "      <th>is_fraud</th>\n",
       "    </tr>\n",
       "  </thead>\n",
       "  <tbody>\n",
       "    <tr>\n",
       "      <th>0</th>\n",
       "      <td>2019-01-01 00:00:18</td>\n",
       "      <td>2703186189652095</td>\n",
       "      <td>fraud_Rippin, Kub and Mann</td>\n",
       "      <td>misc_net</td>\n",
       "      <td>4.97</td>\n",
       "      <td>28654</td>\n",
       "      <td>0b242abb623afc578575680df30655b9</td>\n",
       "      <td>0</td>\n",
       "    </tr>\n",
       "    <tr>\n",
       "      <th>1</th>\n",
       "      <td>2019-01-01 00:00:44</td>\n",
       "      <td>630423337322</td>\n",
       "      <td>fraud_Heller, Gutmann and Zieme</td>\n",
       "      <td>grocery_pos</td>\n",
       "      <td>107.23</td>\n",
       "      <td>99160</td>\n",
       "      <td>1f76529f8574734946361c461b024d99</td>\n",
       "      <td>0</td>\n",
       "    </tr>\n",
       "    <tr>\n",
       "      <th>2</th>\n",
       "      <td>2019-01-01 00:00:51</td>\n",
       "      <td>38859492057661</td>\n",
       "      <td>fraud_Lind-Buckridge</td>\n",
       "      <td>entertainment</td>\n",
       "      <td>220.11</td>\n",
       "      <td>83252</td>\n",
       "      <td>a1a22d70485983eac12b5b88dad1cf95</td>\n",
       "      <td>0</td>\n",
       "    </tr>\n",
       "    <tr>\n",
       "      <th>3</th>\n",
       "      <td>2019-01-01 00:01:16</td>\n",
       "      <td>3534093764340240</td>\n",
       "      <td>fraud_Kutch, Hermiston and Farrell</td>\n",
       "      <td>gas_transport</td>\n",
       "      <td>45.00</td>\n",
       "      <td>59632</td>\n",
       "      <td>6b849c168bdad6f867558c3793159a81</td>\n",
       "      <td>0</td>\n",
       "    </tr>\n",
       "    <tr>\n",
       "      <th>4</th>\n",
       "      <td>2019-01-01 00:03:06</td>\n",
       "      <td>375534208663984</td>\n",
       "      <td>fraud_Keeling-Crist</td>\n",
       "      <td>misc_pos</td>\n",
       "      <td>41.96</td>\n",
       "      <td>24433</td>\n",
       "      <td>a41d7549acf90789359a9aa5346dcb46</td>\n",
       "      <td>0</td>\n",
       "    </tr>\n",
       "    <tr>\n",
       "      <th>...</th>\n",
       "      <td>...</td>\n",
       "      <td>...</td>\n",
       "      <td>...</td>\n",
       "      <td>...</td>\n",
       "      <td>...</td>\n",
       "      <td>...</td>\n",
       "      <td>...</td>\n",
       "      <td>...</td>\n",
       "    </tr>\n",
       "    <tr>\n",
       "      <th>1296670</th>\n",
       "      <td>2020-06-21 12:12:08</td>\n",
       "      <td>30263540414123</td>\n",
       "      <td>fraud_Reichel Inc</td>\n",
       "      <td>entertainment</td>\n",
       "      <td>15.56</td>\n",
       "      <td>84735</td>\n",
       "      <td>440b587732da4dc1a6395aba5fb41669</td>\n",
       "      <td>0</td>\n",
       "    </tr>\n",
       "    <tr>\n",
       "      <th>1296671</th>\n",
       "      <td>2020-06-21 12:12:19</td>\n",
       "      <td>6011149206456997</td>\n",
       "      <td>fraud_Abernathy and Sons</td>\n",
       "      <td>food_dining</td>\n",
       "      <td>51.70</td>\n",
       "      <td>21790</td>\n",
       "      <td>278000d2e0d2277d1de2f890067dcc0a</td>\n",
       "      <td>0</td>\n",
       "    </tr>\n",
       "    <tr>\n",
       "      <th>1296672</th>\n",
       "      <td>2020-06-21 12:12:32</td>\n",
       "      <td>3514865930894695</td>\n",
       "      <td>fraud_Stiedemann Ltd</td>\n",
       "      <td>food_dining</td>\n",
       "      <td>105.93</td>\n",
       "      <td>88325</td>\n",
       "      <td>483f52fe67fabef353d552c1e662974c</td>\n",
       "      <td>0</td>\n",
       "    </tr>\n",
       "    <tr>\n",
       "      <th>1296673</th>\n",
       "      <td>2020-06-21 12:13:36</td>\n",
       "      <td>2720012583106919</td>\n",
       "      <td>fraud_Reinger, Weissnat and Strosin</td>\n",
       "      <td>food_dining</td>\n",
       "      <td>74.90</td>\n",
       "      <td>57756</td>\n",
       "      <td>d667cdcbadaaed3da3f4020e83591c83</td>\n",
       "      <td>0</td>\n",
       "    </tr>\n",
       "    <tr>\n",
       "      <th>1296674</th>\n",
       "      <td>2020-06-21 12:13:37</td>\n",
       "      <td>4292902571056973207</td>\n",
       "      <td>fraud_Langosh, Wintheiser and Hyatt</td>\n",
       "      <td>food_dining</td>\n",
       "      <td>4.30</td>\n",
       "      <td>59871</td>\n",
       "      <td>8f7c8e4ab7f25875d753b422917c98c9</td>\n",
       "      <td>0</td>\n",
       "    </tr>\n",
       "  </tbody>\n",
       "</table>\n",
       "<p>1296675 rows × 8 columns</p>\n",
       "</div>"
      ],
      "text/plain": [
       "        trans_date_trans_time               cc_num  \\\n",
       "0         2019-01-01 00:00:18     2703186189652095   \n",
       "1         2019-01-01 00:00:44         630423337322   \n",
       "2         2019-01-01 00:00:51       38859492057661   \n",
       "3         2019-01-01 00:01:16     3534093764340240   \n",
       "4         2019-01-01 00:03:06      375534208663984   \n",
       "...                       ...                  ...   \n",
       "1296670   2020-06-21 12:12:08       30263540414123   \n",
       "1296671   2020-06-21 12:12:19     6011149206456997   \n",
       "1296672   2020-06-21 12:12:32     3514865930894695   \n",
       "1296673   2020-06-21 12:13:36     2720012583106919   \n",
       "1296674   2020-06-21 12:13:37  4292902571056973207   \n",
       "\n",
       "                                    merchant       category     amt    zip  \\\n",
       "0                 fraud_Rippin, Kub and Mann       misc_net    4.97  28654   \n",
       "1            fraud_Heller, Gutmann and Zieme    grocery_pos  107.23  99160   \n",
       "2                       fraud_Lind-Buckridge  entertainment  220.11  83252   \n",
       "3         fraud_Kutch, Hermiston and Farrell  gas_transport   45.00  59632   \n",
       "4                        fraud_Keeling-Crist       misc_pos   41.96  24433   \n",
       "...                                      ...            ...     ...    ...   \n",
       "1296670                    fraud_Reichel Inc  entertainment   15.56  84735   \n",
       "1296671             fraud_Abernathy and Sons    food_dining   51.70  21790   \n",
       "1296672                 fraud_Stiedemann Ltd    food_dining  105.93  88325   \n",
       "1296673  fraud_Reinger, Weissnat and Strosin    food_dining   74.90  57756   \n",
       "1296674  fraud_Langosh, Wintheiser and Hyatt    food_dining    4.30  59871   \n",
       "\n",
       "                                trans_num  is_fraud  \n",
       "0        0b242abb623afc578575680df30655b9         0  \n",
       "1        1f76529f8574734946361c461b024d99         0  \n",
       "2        a1a22d70485983eac12b5b88dad1cf95         0  \n",
       "3        6b849c168bdad6f867558c3793159a81         0  \n",
       "4        a41d7549acf90789359a9aa5346dcb46         0  \n",
       "...                                   ...       ...  \n",
       "1296670  440b587732da4dc1a6395aba5fb41669         0  \n",
       "1296671  278000d2e0d2277d1de2f890067dcc0a         0  \n",
       "1296672  483f52fe67fabef353d552c1e662974c         0  \n",
       "1296673  d667cdcbadaaed3da3f4020e83591c83         0  \n",
       "1296674  8f7c8e4ab7f25875d753b422917c98c9         0  \n",
       "\n",
       "[1296675 rows x 8 columns]"
      ]
     },
     "execution_count": 7,
     "metadata": {},
     "output_type": "execute_result"
    }
   ],
   "source": [
    "# Drop all rows with missing values from the dataset\n",
    "df.dropna()"
   ]
  },
  {
   "cell_type": "markdown",
   "id": "8b1c9ae9",
   "metadata": {},
   "source": [
    "# STEP 5: Fill Remaining Missing Values\n",
    "\n",
    "In general it is very important to fill in remianing values to make sure that the data available in consistend and that it is not missing any data. In this specific case I dediced that it was best to to not fill any values that are missing, this is because in every transaction, each case is completely unique and not dependant on any other transaction. Therefore it would be unfair and harmful to a machine learning model to fill in the information rather than just drop that case especially when you have so much data\n",
    "\n",
    "------------\n",
    "\n",
    "I have provided the code for this although I do not use it for my assignment"
   ]
  },
  {
   "cell_type": "code",
   "execution_count": 8,
   "id": "6d213aba",
   "metadata": {},
   "outputs": [],
   "source": [
    "def fill_missing_values(dataframe):\n",
    "    \"\"\"\n",
    "    Fill missing values in the DataFrame for both numerical and categorical columns.\n",
    "\n",
    "    For numerical columns, missing values are replaced with the median. The median is \n",
    "    chosen because it is less sensitive to outliers compared to the mean. For categorical \n",
    "    columns, missing values are replaced with the string \"Missing\" to explicitly denote \n",
    "    that data was absent.\n",
    "\n",
    "    Parameters:\n",
    "        dataframe (pd.DataFrame): The input DataFrame with missing values.\n",
    "\n",
    "    Returns:\n",
    "        pd.DataFrame: A new DataFrame with missing values filled in.\n",
    "    \"\"\"\n",
    "    # Create a copy of the DataFrame to avoid modifying the original data.\n",
    "    df_copy = dataframe.copy()\n",
    "\n",
    "    # Identify numerical columns using pandas' select_dtypes method.\n",
    "    numeric_cols = df_copy.select_dtypes(include=[np.number]).columns\n",
    "    \n",
    "    # Identify categorical columns (non-numeric) using select_dtypes.\n",
    "    categorical_cols = df_copy.select_dtypes(exclude=[np.number]).columns\n",
    "\n",
    "    # Fill missing values in numerical columns with the median value of each column.\n",
    "    df_copy[numeric_cols] = df_copy[numeric_cols].fillna(df_copy[numeric_cols].median())\n",
    "    \n",
    "    # Fill missing values in categorical columns with the string 'Missing'.\n",
    "    df_copy[categorical_cols] = df_copy[categorical_cols].fillna(\"Missing\")\n",
    "    \n",
    "    return df_copy\n",
    "\n",
    "\n",
    "# Apply the fill_missing_values function to the DataFrame.\n",
    "df = fill_missing_values(df)"
   ]
  },
  {
   "cell_type": "markdown",
   "id": "a908a777",
   "metadata": {},
   "source": [
    "# STEP 6: Remove and Handle Outliers\n",
    "\n",
    "In general it is very important to examine, highlight and remove outliers or find a way to normalize it. As without this, it could create a skew in the model possibly leading it to possibly having a tendency to provide a result more often then others based on the same input\n",
    "\n",
    "Although in my case, I am specifically lookings for those outliers, it is crucial to keep all transactions as any of them could indicate credit card fraud. So I decided ultimately to not equalize fraud vs non fraudulent transactions\n",
    "\n",
    "------------\n",
    "\n",
    "I have provided the code for this although I do not use it for my assignment"
   ]
  },
  {
   "cell_type": "code",
   "execution_count": 9,
   "id": "d94cf2bd",
   "metadata": {},
   "outputs": [
    {
     "data": {
      "image/png": "[encoded data removed]",
      "text/plain": [
       "<Figure size 640x480 with 1 Axes>"
      ]
     },
     "metadata": {},
     "output_type": "display_data"
    }
   ],
   "source": [
    "# def remove_outliers(dataframe, col_name, upper_limit):\n",
    "#     \"\"\"\n",
    "#     Remove rows from the DataFrame where the values in the specified column exceed the upper_limit.\n",
    "\n",
    "#     Outlier removal is crucial to reduce the impact of extreme values that might skew model training.\n",
    "#     This function filters the DataFrame, keeping only those rows where the value in the given column\n",
    "#     is below the provided upper_limit. If the specified column is not found, it prints a message and returns\n",
    "#     the DataFrame unmodified.\n",
    "\n",
    "#     Parameters:\n",
    "#         dataframe (pd.DataFrame): The input DataFrame.\n",
    "#         col_name (str): The name of the column to inspect for outliers.\n",
    "#         upper_limit (float or int): The threshold value; rows with values equal to or above this will be removed.\n",
    "\n",
    "#     Returns:\n",
    "#         pd.DataFrame: The filtered DataFrame with outliers removed.\n",
    "#     \"\"\"\n",
    "#     # Check if the specified column exists in the DataFrame.\n",
    "#     if col_name not in dataframe.columns:\n",
    "#         print(f\"Column '{col_name}' not found. Skipping outlier removal.\")\n",
    "#         return dataframe\n",
    "\n",
    "#     # Record the number of rows before removing outliers.\n",
    "#     before = len(dataframe)\n",
    "    \n",
    "#     # Filter the DataFrame to keep rows where the column value is less than the upper limit.\n",
    "#     dataframe = dataframe[dataframe[col_name] < upper_limit]\n",
    "    \n",
    "#     # Record the number of rows after filtering.\n",
    "#     after = len(dataframe)\n",
    "    \n",
    "#     # Inform the user how many rows were removed.\n",
    "#     print(f\"Removed {before - after} outliers from '{col_name}'.\")\n",
    "    \n",
    "#     return dataframe\n",
    "\n",
    "# # Apply the outlier removal function to the DataFrame.\n",
    "# df = remove_outliers(df, col_name=\"amt\", upper_limit=15000)\n",
    "\n",
    "# If I used the code above it would severly alter the boxplot below\n",
    "# ____________________________________\n",
    "\n",
    "sns.boxplot(x=df['amt'])\n",
    "plt.show()"
   ]
  },
  {
   "cell_type": "markdown",
   "id": "b28a3048-f78a-408e-8163-bbad35397702",
   "metadata": {},
   "source": [
    "### Boxplot Interpretation\n",
    "\n",
    "Based on the boxplot above it is evident that most of all of the transactions go up to around $15,000. It is also evident that there are transactions that above this threshold and would most definitely be the outliers within the dataset. Like I mentioned previously it is crucial that we do not remove any of the data points as any transaction could be fraudulent"
   ]
  },
  {
   "cell_type": "markdown",
   "id": "0f5d87ac",
   "metadata": {},
   "source": [
    "# STEP 7: Encode Variables\n",
    "Once the data has only the columns you want with all values filled out use frequency encoding and one hot encoding to change all textual variables to values that the machine learning model can understand (values).\n",
    "\n",
    "In order for a binary classification model to work all of the columns within the dataset must be numerical. Considering that there are multiple textual columns within the dataset, to make sure that the machine learning model is able to run I need to convert them to numerical values. \n",
    "\n",
    "I chose to use frequency encoding for my dataset as there are tons of different values and this technique is most commonly used when there are a large number of individual value frequencies within the dataset."
   ]
  },
  {
   "cell_type": "code",
   "execution_count": 10,
   "id": "b2189b9a-ba4d-436d-90e4-5c59269c70a7",
   "metadata": {},
   "outputs": [
    {
     "name": "stdout",
     "output_type": "stream",
     "text": [
      "values encoded!\n"
     ]
    }
   ],
   "source": [
    "def encode_categorical_features(dataframe, freq_threshold=10):\n",
    "    \"\"\"\n",
    "    Encode categorical features in the DataFrame using two strategies:\n",
    "    \n",
    "    - One-hot encoding for categorical variables with a number of unique categories\n",
    "      less than or equal to freq_threshold. One-hot encoding creates binary columns for each\n",
    "      category (dropping the first to avoid multicollinearity).\n",
    "    \n",
    "    - Frequency encoding for categorical variables with more than freq_threshold unique categories.\n",
    "      Frequency encoding replaces each category with its relative frequency in the column.\n",
    "    \n",
    "    This approach helps manage high-cardinality features while still providing useful representations\n",
    "    for variables with fewer categories.\n",
    "    \"\"\"\n",
    "    cat_cols = dataframe.select_dtypes(include=[\"object\"]).columns\n",
    "    freq_frames = {}\n",
    "\n",
    "    for col in cat_cols:\n",
    "        # Frequency encoding\n",
    "        freq_map = dataframe[col].value_counts(normalize=True)\n",
    "        freq_frames[col + \"_freq\"] = dataframe[col].map(freq_map)\n",
    "\n",
    "    # Combine frequency-encoded columns\n",
    "    if freq_frames:\n",
    "        freq_df = pd.DataFrame(freq_frames, index=dataframe.index)\n",
    "        dataframe = pd.concat([dataframe, freq_df], axis=1)\n",
    "\n",
    "    # Drop original categorical columns\n",
    "    dataframe.drop(columns=cat_cols, inplace=True)\n",
    "    return dataframe\n",
    "\n",
    "df = encode_categorical_features(df, freq_threshold=10)\n",
    "\n",
    "print(\"values encoded!\")"
   ]
  },
  {
   "cell_type": "markdown",
   "id": "458bd193-d54d-4d3a-be4f-0129ebc3f2ec",
   "metadata": {},
   "source": [
    "# STEP 8: Check Correlations\n",
    "Establish a correlation matrix to establish which columns may have more positive or negative features to my target variab.e"
   ]
  },
  {
   "cell_type": "code",
   "execution_count": 11,
   "id": "de670f57",
   "metadata": {},
   "outputs": [
    {
     "data": {
      "image/png": "[encoded data removed]",
      "text/plain": [
       "<Figure size 1200x800 with 2 Axes>"
      ]
     },
     "metadata": {},
     "output_type": "display_data"
    }
   ],
   "source": [
    "# Compute correlation matrix\n",
    "correlation_matrix = df.corr()\n",
    "\n",
    "# Display correlation heatmap\n",
    "plt.figure(figsize=(12, 8))\n",
    "sns.heatmap(correlation_matrix, annot=True, cmap=\"coolwarm\", fmt=\".2f\")\n",
    "plt.title(\"Feature Correlation Matrix\")\n",
    "plt.show()"
   ]
  },
  {
   "cell_type": "markdown",
   "id": "e4f30052",
   "metadata": {},
   "source": [
    "### Results:\n",
    "\n",
    "After examining the correlation matrix it is evident to see that the strongest correlation to determine whether something is fraudulent or not. As expected it did make sense to me that the target variable was one of the most closely related features on this matrix (even though it is objectively not a strong correlation). It was also unsurprising to see that a there was a very strong correlation between the merchant and the merchant category as these two columns would describe the operations of one of the merchants that we looked at. Besides that, it was interesting to see a lack of relationship between the columns and that each column (for the most part) is linearly independant of the others."
   ]
  },
  {
   "cell_type": "markdown",
   "id": "b21c1fec",
   "metadata": {},
   "source": [
    "# Step 9: Scale Features\n",
    "\n",
    "Transform the data to be scaled to smaller values. This will ensure that the data cannot be biased due to a much smaller range of values. I chose to only scale the amount value due to this, this should help reduce the skew of the dataset without removing any of the outliers. This should help to improve the machine learning model that will be built on this dataset."
   ]
  },
  {
   "cell_type": "code",
   "execution_count": 12,
   "id": "1a18f87a",
   "metadata": {},
   "outputs": [
    {
     "name": "stdout",
     "output_type": "stream",
     "text": [
      "Data Transformed\n"
     ]
    }
   ],
   "source": [
    "# Initialize standard scaler\n",
    "scaler = StandardScaler()\n",
    "\n",
    "# Scale 'amt' and 'trans_date_trans_time_freq' columns\n",
    "df[['cc_num', 'amt', 'trans_date_trans_time_freq']] = scaler.fit_transform(df[['cc_num', 'amt', 'trans_date_trans_time_freq']])\n",
    "\n",
    "print(\"Data Transformed\")"
   ]
  },
  {
   "cell_type": "markdown",
   "id": "76fca46a-0ded-45ef-9c29-9bed3f636f97",
   "metadata": {},
   "source": [
    "# Step 10: Final Display of the Data"
   ]
  },
  {
   "cell_type": "code",
   "execution_count": 13,
   "id": "4e518e9a-9686-4fd0-a394-4fed5a424abc",
   "metadata": {},
   "outputs": [
    {
     "name": "stdout",
     "output_type": "stream",
     "text": [
      "     cc_num       amt    zip  is_fraud  trans_date_trans_time_freq  \\\n",
      "0 -0.316692 -0.407826  28654         0                   -0.184245   \n",
      "1 -0.318757  0.230039  99160         0                   -0.184245   \n",
      "2 -0.318728  0.934149  83252         0                   -0.184245   \n",
      "3 -0.316058 -0.158132  59632         0                   -0.184245   \n",
      "4 -0.318471 -0.177094  24433         0                   -0.184245   \n",
      "\n",
      "   merchant_freq  category_freq  trans_num_freq  \n",
      "0       0.000977       0.048807    7.712033e-07  \n",
      "1       0.001930       0.095350    7.712033e-07  \n",
      "2       0.001461       0.072504    7.712033e-07  \n",
      "3       0.002015       0.101536    7.712033e-07  \n",
      "4       0.001228       0.061430    7.712033e-07  \n",
      "<class 'pandas.core.frame.DataFrame'>\n",
      "RangeIndex: 1296675 entries, 0 to 1296674\n",
      "Data columns (total 8 columns):\n",
      " #   Column                      Non-Null Count    Dtype  \n",
      "---  ------                      --------------    -----  \n",
      " 0   cc_num                      1296675 non-null  float64\n",
      " 1   amt                         1296675 non-null  float64\n",
      " 2   zip                         1296675 non-null  int64  \n",
      " 3   is_fraud                    1296675 non-null  int64  \n",
      " 4   trans_date_trans_time_freq  1296675 non-null  float64\n",
      " 5   merchant_freq               1296675 non-null  float64\n",
      " 6   category_freq               1296675 non-null  float64\n",
      " 7   trans_num_freq              1296675 non-null  float64\n",
      "dtypes: float64(6), int64(2)\n",
      "memory usage: 79.1 MB\n"
     ]
    }
   ],
   "source": [
    "print(df.head(5))\n",
    "df.info()"
   ]
  },
  {
   "cell_type": "markdown",
   "id": "26750810-e7c7-4fc4-9c50-99d20ebd9576",
   "metadata": {},
   "source": [
    "# Step 11: Split the data into the training and testing sets\n",
    "\n",
    "In order to make sure that the model is able to predict whether a transaction is fraudulent or not I needed to split up the data into testing and training data. As the dataset was so large (1.2 million entries) I needed to first, shrink the dataset to make sure that the model worked on a smaller dataset. Also, as fraudlent transactions are much less frequent than non fraudulent ones I needed to make sure that the training set had at least roughly 10% fraudulent transactions to make sure than the model knew the base case for fraudulent transactions. Once this was completed I was able to split it up into the training and testing sets. "
   ]
  },
  {
   "cell_type": "code",
   "execution_count": 14,
   "id": "ff687b7f-9a24-43b4-acb8-9531507fbd6e",
   "metadata": {},
   "outputs": [
    {
     "name": "stdout",
     "output_type": "stream",
     "text": [
      "X_train: (24000, 7) y_train: (24000,)\n",
      "X_val: (6000, 7) y_val: (6000,)\n",
      "Training class distribution:\n",
      " 0    22000\n",
      "1     2000\n",
      "Name: is_fraud, dtype: int64\n",
      "Validation class distribution:\n",
      " 0    5500\n",
      "1     500\n",
      "Name: is_fraud, dtype: int64\n"
     ]
    }
   ],
   "source": [
    "# Define sample sizes\n",
    "fraud_samples = 2500\n",
    "non_fraud_samples = 30000 - fraud_samples  # Ensure total size is 30,000\n",
    "\n",
    "# Sample fraud and non-fraud cases separately\n",
    "df_fraud = df[df[\"is_fraud\"] == 1].sample(n=fraud_samples, random_state=42)\n",
    "df_non_fraud = df[df[\"is_fraud\"] == 0].sample(n=non_fraud_samples, random_state=42)\n",
    "\n",
    "# Combine sampled data\n",
    "df_sampled = pd.concat([df_fraud, df_non_fraud]).sample(frac=1, random_state=42)  # Shuffle\n",
    "\n",
    "# Split features and target\n",
    "X = df_sampled.drop(\"is_fraud\", axis=1)\n",
    "y = df_sampled[\"is_fraud\"]\n",
    "\n",
    "# Train-validation split with stratification\n",
    "X_train, X_val, y_train, y_val = train_test_split(X, y, test_size=0.2, random_state=42, stratify=y)\n",
    "\n",
    "print(\"X_train:\", X_train.shape, \"y_train:\", y_train.shape)\n",
    "print(\"X_val:\", X_val.shape, \"y_val:\", y_val.shape)\n",
    "\n",
    "# Check class distribution\n",
    "print(\"Training class distribution:\\n\", y_train.value_counts())\n",
    "print(\"Validation class distribution:\\n\", y_val.value_counts())\n"
   ]
  },
  {
   "cell_type": "markdown",
   "id": "4cc500eb-adad-493f-96f4-b6d90023bfc7",
   "metadata": {},
   "source": [
    "# STEP 12: Prepare files and set up Sagemaker Session\n",
    "\n",
    "In this code I set up a folder path for the S3 bucket along with saving both the testing and training datasets for this code. I also then setup the Sagemaker Session for future training the model. "
   ]
  },
  {
   "cell_type": "code",
   "execution_count": 15,
   "id": "db53e27c-3fc1-4985-8481-5c52ce4fbc82",
   "metadata": {},
   "outputs": [
    {
     "data": {
      "text/html": [
       "<pre style=\"white-space:pre;overflow-x:auto;line-height:normal;font-family:Menlo,'DejaVu Sans Mono',consolas,'Courier New',monospace\"><span style=\"color: #7fbfbf; text-decoration-color: #7fbfbf\">[03/25/25 21:18:09] </span><span style=\"color: #0069ff; text-decoration-color: #0069ff; font-weight: bold\">INFO    </span> Found credentials from IAM Role:                                   <a href=\"file:///home/ec2-user/anaconda3/envs/python3/lib/python3.10/site-packages/botocore/credentials.py\" target=\"_blank\"><span style=\"color: #7f7f7f; text-decoration-color: #7f7f7f\">credentials.py</span></a><span style=\"color: #7f7f7f; text-decoration-color: #7f7f7f\">:</span><a href=\"file:///home/ec2-user/anaconda3/envs/python3/lib/python3.10/site-packages/botocore/credentials.py#1132\" target=\"_blank\"><span style=\"color: #7f7f7f; text-decoration-color: #7f7f7f\">1132</span></a>\n",
       "<span style=\"color: #7fbfbf; text-decoration-color: #7fbfbf\">                    </span>         BaseNotebookInstanceEc2InstanceRole                                <span style=\"color: #7f7f7f; text-decoration-color: #7f7f7f\">                   </span>\n",
       "</pre>\n"
      ],
      "text/plain": [
       "\u001b[2;36m[03/25/25 21:18:09]\u001b[0m\u001b[2;36m \u001b[0m\u001b[1;38;2;0;105;255mINFO    \u001b[0m Found credentials from IAM Role:                                   \u001b]8;id=294582;file:///home/ec2-user/anaconda3/envs/python3/lib/python3.10/site-packages/botocore/credentials.py\u001b\\\u001b[2mcredentials.py\u001b[0m\u001b]8;;\u001b\\\u001b[2m:\u001b[0m\u001b]8;id=31126;file:///home/ec2-user/anaconda3/envs/python3/lib/python3.10/site-packages/botocore/credentials.py#1132\u001b\\\u001b[2m1132\u001b[0m\u001b]8;;\u001b\\\n",
       "\u001b[2;36m                    \u001b[0m         BaseNotebookInstanceEc2InstanceRole                                \u001b[2m                   \u001b[0m\n"
      ]
     },
     "metadata": {},
     "output_type": "display_data"
    },
    {
     "data": {
      "text/html": [
       "<pre style=\"white-space:pre;overflow-x:auto;line-height:normal;font-family:Menlo,'DejaVu Sans Mono',consolas,'Courier New',monospace\"><span style=\"color: #7fbfbf; text-decoration-color: #7fbfbf\">                    </span><span style=\"color: #0069ff; text-decoration-color: #0069ff; font-weight: bold\">INFO    </span> Found credentials from IAM Role:                                   <a href=\"file:///home/ec2-user/anaconda3/envs/python3/lib/python3.10/site-packages/botocore/credentials.py\" target=\"_blank\"><span style=\"color: #7f7f7f; text-decoration-color: #7f7f7f\">credentials.py</span></a><span style=\"color: #7f7f7f; text-decoration-color: #7f7f7f\">:</span><a href=\"file:///home/ec2-user/anaconda3/envs/python3/lib/python3.10/site-packages/botocore/credentials.py#1132\" target=\"_blank\"><span style=\"color: #7f7f7f; text-decoration-color: #7f7f7f\">1132</span></a>\n",
       "<span style=\"color: #7fbfbf; text-decoration-color: #7fbfbf\">                    </span>         BaseNotebookInstanceEc2InstanceRole                                <span style=\"color: #7f7f7f; text-decoration-color: #7f7f7f\">                   </span>\n",
       "</pre>\n"
      ],
      "text/plain": [
       "\u001b[2;36m                   \u001b[0m\u001b[2;36m \u001b[0m\u001b[1;38;2;0;105;255mINFO    \u001b[0m Found credentials from IAM Role:                                   \u001b]8;id=842958;file:///home/ec2-user/anaconda3/envs/python3/lib/python3.10/site-packages/botocore/credentials.py\u001b\\\u001b[2mcredentials.py\u001b[0m\u001b]8;;\u001b\\\u001b[2m:\u001b[0m\u001b]8;id=61843;file:///home/ec2-user/anaconda3/envs/python3/lib/python3.10/site-packages/botocore/credentials.py#1132\u001b\\\u001b[2m1132\u001b[0m\u001b]8;;\u001b\\\n",
       "\u001b[2;36m                    \u001b[0m         BaseNotebookInstanceEc2InstanceRole                                \u001b[2m                   \u001b[0m\n"
      ]
     },
     "metadata": {},
     "output_type": "display_data"
    },
    {
     "name": "stdout",
     "output_type": "stream",
     "text": [
      "Warning: Class imbalance detected. Consider balancing the dataset.\n",
      "Training data uploaded to: s3://sagemaker-us-east-1-573921105544/sagemaker/binary-cybersecurity/cc_fraud_train.csv\n",
      "Validation data uploaded to: s3://sagemaker-us-east-1-573921105544/sagemaker/binary-cybersecurity/cc_fraud_test.csv\n"
     ]
    }
   ],
   "source": [
    "# Initialize a SageMaker session\n",
    "sagemaker_session = sagemaker.Session()\n",
    "\n",
    "# Get IAM role associated with SageMaker\n",
    "role = get_execution_role()\n",
    "\n",
    "# Define S3 bucket, AWS region, and S3 folder prefix for storing data\n",
    "bucket = sagemaker_session.default_bucket()  # Default S3 bucket assigned by SageMaker\n",
    "region = sagemaker_session.boto_region_name  # AWS region of the session\n",
    "prefix = \"sagemaker/binary-cybersecurity\"  # Folder path in S3\n",
    "\n",
    "# Combine target labels (y) and feature data (X) for training and validation sets\n",
    "train_data = pd.concat([y_train, X_train], axis=1)\n",
    "validation_data = pd.concat([y_val, X_val], axis=1)\n",
    "\n",
    "# Check for missing values and print a warning if found\n",
    "if train_data.isnull().values.any() or validation_data.isnull().values.any():\n",
    "    print(\"Warning: Missing values detected! Consider handling them before training.\")\n",
    "\n",
    "# Check for class imbalance and print a warning if any class dominates (>75% of the data)\n",
    "train_class_distribution = y_train.value_counts(normalize=True)\n",
    "val_class_distribution = y_val.value_counts(normalize=True)\n",
    "\n",
    "if train_class_distribution.max() > 0.75 or val_class_distribution.max() > 0.75:\n",
    "    print(\"Warning: Class imbalance detected. Consider balancing the dataset.\")\n",
    "\n",
    "# Define filenames for local storage\n",
    "train_file = \"cc_fraud_train.csv\"\n",
    "validation_file = \"cc_fraud_test.csv\"\n",
    "\n",
    "# Save training and validation data to CSV files (no headers, no index)\n",
    "train_data.to_csv(train_file, index=False, header=False)\n",
    "validation_data.to_csv(validation_file, index=False, header=False)\n",
    "\n",
    "# Upload datasets to Amazon S3 and retrieve their S3 locations\n",
    "train_uri = sagemaker_session.upload_data(path=train_file, bucket=bucket, key_prefix=prefix)\n",
    "validation_uri = sagemaker_session.upload_data(path=validation_file, bucket=bucket, key_prefix=prefix)\n",
    "\n",
    "# Print the S3 paths of uploaded datasets for reference\n",
    "print(f\"Training data uploaded to: {train_uri}\")\n",
    "print(f\"Validation data uploaded to: {validation_uri}\")"
   ]
  },
  {
   "cell_type": "markdown",
   "id": "1ffc1963-c5b8-4ee2-96fa-27561ba94d42",
   "metadata": {},
   "source": [
    "# STEP 13: Hyperparameter Tuning\n",
    "\n",
    "In order to ensure the model is as accurate as possible I decided to use hyperparameter tuning in an attempt to increase the accuracy of the model. In order to make sure the model is as optimal as possible I decided to tune: mini-batch-size, learning-rate, wd, l1, positive_example_weight_mult and use_bias. These are all of the possible tunable parameters for a binary classifcation model.\n"
   ]
  },
  {
   "cell_type": "code",
   "execution_count": 17,
   "id": "e5fa6972-0b72-40ae-a7be-ee276bd5cff2",
   "metadata": {},
   "outputs": [
    {
     "data": {
      "text/html": [
       "<pre style=\"white-space:pre;overflow-x:auto;line-height:normal;font-family:Menlo,'DejaVu Sans Mono',consolas,'Courier New',monospace\"><span style=\"color: #7fbfbf; text-decoration-color: #7fbfbf\">[03/25/25 21:21:16] </span><span style=\"color: #0069ff; text-decoration-color: #0069ff; font-weight: bold\">INFO    </span> Same images used for training and inference. Defaulting to image     <a href=\"file:///home/ec2-user/anaconda3/envs/python3/lib/python3.10/site-packages/sagemaker/image_uris.py\" target=\"_blank\"><span style=\"color: #7f7f7f; text-decoration-color: #7f7f7f\">image_uris.py</span></a><span style=\"color: #7f7f7f; text-decoration-color: #7f7f7f\">:</span><a href=\"file:///home/ec2-user/anaconda3/envs/python3/lib/python3.10/site-packages/sagemaker/image_uris.py#393\" target=\"_blank\"><span style=\"color: #7f7f7f; text-decoration-color: #7f7f7f\">393</span></a>\n",
       "<span style=\"color: #7fbfbf; text-decoration-color: #7fbfbf\">                    </span>         scope: inference.                                                    <span style=\"color: #7f7f7f; text-decoration-color: #7f7f7f\">                 </span>\n",
       "</pre>\n"
      ],
      "text/plain": [
       "\u001b[2;36m[03/25/25 21:21:16]\u001b[0m\u001b[2;36m \u001b[0m\u001b[1;38;2;0;105;255mINFO    \u001b[0m Same images used for training and inference. Defaulting to image     \u001b]8;id=264243;file:///home/ec2-user/anaconda3/envs/python3/lib/python3.10/site-packages/sagemaker/image_uris.py\u001b\\\u001b[2mimage_uris.py\u001b[0m\u001b]8;;\u001b\\\u001b[2m:\u001b[0m\u001b]8;id=544715;file:///home/ec2-user/anaconda3/envs/python3/lib/python3.10/site-packages/sagemaker/image_uris.py#393\u001b\\\u001b[2m393\u001b[0m\u001b]8;;\u001b\\\n",
       "\u001b[2;36m                    \u001b[0m         scope: inference.                                                    \u001b[2m                 \u001b[0m\n"
      ]
     },
     "metadata": {},
     "output_type": "display_data"
    },
    {
     "data": {
      "text/html": [
       "<pre style=\"white-space:pre;overflow-x:auto;line-height:normal;font-family:Menlo,'DejaVu Sans Mono',consolas,'Courier New',monospace\"><span style=\"color: #7fbfbf; text-decoration-color: #7fbfbf\">                    </span><span style=\"color: #0069ff; text-decoration-color: #0069ff; font-weight: bold\">INFO    </span> Ignoring unnecessary instance type: <span style=\"color: #e100e1; text-decoration-color: #e100e1; font-style: italic\">None</span>.                            <a href=\"file:///home/ec2-user/anaconda3/envs/python3/lib/python3.10/site-packages/sagemaker/image_uris.py\" target=\"_blank\"><span style=\"color: #7f7f7f; text-decoration-color: #7f7f7f\">image_uris.py</span></a><span style=\"color: #7f7f7f; text-decoration-color: #7f7f7f\">:</span><a href=\"file:///home/ec2-user/anaconda3/envs/python3/lib/python3.10/site-packages/sagemaker/image_uris.py#530\" target=\"_blank\"><span style=\"color: #7f7f7f; text-decoration-color: #7f7f7f\">530</span></a>\n",
       "</pre>\n"
      ],
      "text/plain": [
       "\u001b[2;36m                   \u001b[0m\u001b[2;36m \u001b[0m\u001b[1;38;2;0;105;255mINFO    \u001b[0m Ignoring unnecessary instance type: \u001b[3;38;2;225;0;225mNone\u001b[0m.                            \u001b]8;id=966110;file:///home/ec2-user/anaconda3/envs/python3/lib/python3.10/site-packages/sagemaker/image_uris.py\u001b\\\u001b[2mimage_uris.py\u001b[0m\u001b]8;;\u001b\\\u001b[2m:\u001b[0m\u001b]8;id=772835;file:///home/ec2-user/anaconda3/envs/python3/lib/python3.10/site-packages/sagemaker/image_uris.py#530\u001b\\\u001b[2m530\u001b[0m\u001b]8;;\u001b\\\n"
      ]
     },
     "metadata": {},
     "output_type": "display_data"
    },
    {
     "data": {
      "text/html": [
       "<pre style=\"white-space:pre;overflow-x:auto;line-height:normal;font-family:Menlo,'DejaVu Sans Mono',consolas,'Courier New',monospace\"><span style=\"color: #7fbfbf; text-decoration-color: #7fbfbf\">[03/25/25 21:21:17] </span><span style=\"color: #d7af00; text-decoration-color: #d7af00; font-weight: bold\">WARNING </span> No finished training job found associated with this estimator.       <a href=\"file:///home/ec2-user/anaconda3/envs/python3/lib/python3.10/site-packages/sagemaker/estimator.py\" target=\"_blank\"><span style=\"color: #7f7f7f; text-decoration-color: #7f7f7f\">estimator.py</span></a><span style=\"color: #7f7f7f; text-decoration-color: #7f7f7f\">:</span><a href=\"file:///home/ec2-user/anaconda3/envs/python3/lib/python3.10/site-packages/sagemaker/estimator.py#1914\" target=\"_blank\"><span style=\"color: #7f7f7f; text-decoration-color: #7f7f7f\">1914</span></a>\n",
       "<span style=\"color: #7fbfbf; text-decoration-color: #7fbfbf\">                    </span>         Please make sure this estimator is only used for building workflow   <span style=\"color: #7f7f7f; text-decoration-color: #7f7f7f\">                 </span>\n",
       "<span style=\"color: #7fbfbf; text-decoration-color: #7fbfbf\">                    </span>         config                                                               <span style=\"color: #7f7f7f; text-decoration-color: #7f7f7f\">                 </span>\n",
       "</pre>\n"
      ],
      "text/plain": [
       "\u001b[2;36m[03/25/25 21:21:17]\u001b[0m\u001b[2;36m \u001b[0m\u001b[1;38;2;215;175;0mWARNING \u001b[0m No finished training job found associated with this estimator.       \u001b]8;id=9344;file:///home/ec2-user/anaconda3/envs/python3/lib/python3.10/site-packages/sagemaker/estimator.py\u001b\\\u001b[2mestimator.py\u001b[0m\u001b]8;;\u001b\\\u001b[2m:\u001b[0m\u001b]8;id=779040;file:///home/ec2-user/anaconda3/envs/python3/lib/python3.10/site-packages/sagemaker/estimator.py#1914\u001b\\\u001b[2m1914\u001b[0m\u001b]8;;\u001b\\\n",
       "\u001b[2;36m                    \u001b[0m         Please make sure this estimator is only used for building workflow   \u001b[2m                 \u001b[0m\n",
       "\u001b[2;36m                    \u001b[0m         config                                                               \u001b[2m                 \u001b[0m\n"
      ]
     },
     "metadata": {},
     "output_type": "display_data"
    },
    {
     "data": {
      "text/html": [
       "<pre style=\"white-space:pre;overflow-x:auto;line-height:normal;font-family:Menlo,'DejaVu Sans Mono',consolas,'Courier New',monospace\"><span style=\"color: #7fbfbf; text-decoration-color: #7fbfbf\">                    </span><span style=\"color: #d7af00; text-decoration-color: #d7af00; font-weight: bold\">WARNING </span> No finished training job found associated with this estimator.       <a href=\"file:///home/ec2-user/anaconda3/envs/python3/lib/python3.10/site-packages/sagemaker/estimator.py\" target=\"_blank\"><span style=\"color: #7f7f7f; text-decoration-color: #7f7f7f\">estimator.py</span></a><span style=\"color: #7f7f7f; text-decoration-color: #7f7f7f\">:</span><a href=\"file:///home/ec2-user/anaconda3/envs/python3/lib/python3.10/site-packages/sagemaker/estimator.py#1914\" target=\"_blank\"><span style=\"color: #7f7f7f; text-decoration-color: #7f7f7f\">1914</span></a>\n",
       "<span style=\"color: #7fbfbf; text-decoration-color: #7fbfbf\">                    </span>         Please make sure this estimator is only used for building workflow   <span style=\"color: #7f7f7f; text-decoration-color: #7f7f7f\">                 </span>\n",
       "<span style=\"color: #7fbfbf; text-decoration-color: #7fbfbf\">                    </span>         config                                                               <span style=\"color: #7f7f7f; text-decoration-color: #7f7f7f\">                 </span>\n",
       "</pre>\n"
      ],
      "text/plain": [
       "\u001b[2;36m                   \u001b[0m\u001b[2;36m \u001b[0m\u001b[1;38;2;215;175;0mWARNING \u001b[0m No finished training job found associated with this estimator.       \u001b]8;id=198280;file:///home/ec2-user/anaconda3/envs/python3/lib/python3.10/site-packages/sagemaker/estimator.py\u001b\\\u001b[2mestimator.py\u001b[0m\u001b]8;;\u001b\\\u001b[2m:\u001b[0m\u001b]8;id=568220;file:///home/ec2-user/anaconda3/envs/python3/lib/python3.10/site-packages/sagemaker/estimator.py#1914\u001b\\\u001b[2m1914\u001b[0m\u001b]8;;\u001b\\\n",
       "\u001b[2;36m                    \u001b[0m         Please make sure this estimator is only used for building workflow   \u001b[2m                 \u001b[0m\n",
       "\u001b[2;36m                    \u001b[0m         config                                                               \u001b[2m                 \u001b[0m\n"
      ]
     },
     "metadata": {},
     "output_type": "display_data"
    },
    {
     "data": {
      "text/html": [
       "<pre style=\"white-space:pre;overflow-x:auto;line-height:normal;font-family:Menlo,'DejaVu Sans Mono',consolas,'Courier New',monospace\"><span style=\"color: #7fbfbf; text-decoration-color: #7fbfbf\">                    </span><span style=\"color: #0069ff; text-decoration-color: #0069ff; font-weight: bold\">INFO    </span> Creating hyperparameter tuning job with name:                          <a href=\"file:///home/ec2-user/anaconda3/envs/python3/lib/python3.10/site-packages/sagemaker/session.py\" target=\"_blank\"><span style=\"color: #7f7f7f; text-decoration-color: #7f7f7f\">session.py</span></a><span style=\"color: #7f7f7f; text-decoration-color: #7f7f7f\">:</span><a href=\"file:///home/ec2-user/anaconda3/envs/python3/lib/python3.10/site-packages/sagemaker/session.py#3383\" target=\"_blank\"><span style=\"color: #7f7f7f; text-decoration-color: #7f7f7f\">3383</span></a>\n",
       "<span style=\"color: #7fbfbf; text-decoration-color: #7fbfbf\">                    </span>         linear-learner-<span style=\"color: #008080; text-decoration-color: #008080; font-weight: bold\">250325</span>-<span style=\"color: #008080; text-decoration-color: #008080; font-weight: bold\">2121</span>                                             <span style=\"color: #7f7f7f; text-decoration-color: #7f7f7f\">               </span>\n",
       "</pre>\n"
      ],
      "text/plain": [
       "\u001b[2;36m                   \u001b[0m\u001b[2;36m \u001b[0m\u001b[1;38;2;0;105;255mINFO    \u001b[0m Creating hyperparameter tuning job with name:                          \u001b]8;id=495323;file:///home/ec2-user/anaconda3/envs/python3/lib/python3.10/site-packages/sagemaker/session.py\u001b\\\u001b[2msession.py\u001b[0m\u001b]8;;\u001b\\\u001b[2m:\u001b[0m\u001b]8;id=63394;file:///home/ec2-user/anaconda3/envs/python3/lib/python3.10/site-packages/sagemaker/session.py#3383\u001b\\\u001b[2m3383\u001b[0m\u001b]8;;\u001b\\\n",
       "\u001b[2;36m                    \u001b[0m         linear-learner-\u001b[1;36m250325\u001b[0m-\u001b[1;36m2121\u001b[0m                                             \u001b[2m               \u001b[0m\n"
      ]
     },
     "metadata": {},
     "output_type": "display_data"
    },
    {
     "name": "stdout",
     "output_type": "stream",
     "text": [
      ".............................................................................................................................................!\n",
      "Hyperparameter tuning job launched!\n"
     ]
    }
   ],
   "source": [
    "from sagemaker.tuner import (\n",
    "    HyperparameterTuner,\n",
    "    IntegerParameter,\n",
    "    ContinuousParameter,\n",
    "    CategoricalParameter\n",
    ")\n",
    "\n",
    "# Create TrainingInput objects for tuning\n",
    "train_input = TrainingInput(s3_data=train_uri, content_type=\"text/csv\")\n",
    "validation_input = TrainingInput(s3_data=validation_uri, content_type=\"text/csv\")\n",
    "\n",
    "# Retrieve the container image URI for the Linear Learner algorithm in the specified region.\n",
    "container = sagemaker.image_uris.retrieve(\n",
    "    framework=\"linear-learner\",\n",
    "    region=region\n",
    ")\n",
    "\n",
    "# Determine the number of features (ensure this is defined using your dataset).\n",
    "num_features = X.shape[1]\n",
    "\n",
    "# Instantiate the SageMaker Estimator for the Linear Learner model.\n",
    "linear_learner = Estimator(\n",
    "    image_uri=container,                        # The container image for Linear Learner.\n",
    "    role=role,                                  # IAM role with necessary permissions.\n",
    "    instance_count=1,                           # Number of instances.\n",
    "    instance_type='ml.m5.large',                # Instance type based on resource needs.\n",
    "    output_path=f's3://{bucket}/{prefix}/output',# S3 bucket & prefix for model artifacts.\n",
    "    sagemaker_session=sagemaker_session         # Active SageMaker session.\n",
    ")\n",
    "\n",
    "# Set base hyperparameters for the Linear Learner.\n",
    "linear_learner.set_hyperparameters(\n",
    "    feature_dim=num_features,\n",
    "    predictor_type='binary_classifier'\n",
    ")\n",
    "\n",
    "# -------------------------------\n",
    "# Hyperparameter Tuning Section\n",
    "# -------------------------------\n",
    "\n",
    "# Define hyperparameter ranges to tune.\n",
    "hyperparameter_ranges = {\n",
    "    'mini_batch_size': IntegerParameter(16, 128),\n",
    "    'learning_rate': ContinuousParameter(0.0001, 0.1), \n",
    "    'wd': ContinuousParameter(0.0001, 0.1), \n",
    "    'l1': ContinuousParameter(0.0001, 0.1),\n",
    "    'positive_example_weight_mult': ContinuousParameter(0.5, 10.0),\n",
    "    'use_bias': CategoricalParameter(['true', 'false'])\n",
    "}\n",
    "\n",
    "# Specify the objective metric.\n",
    "objective_metric_name = \"validation:binary_classification_accuracy\"\n",
    "objective_type = \"Maximize\"\n",
    "\n",
    "# Create the Hyperparameter Tuner.\n",
    "tuner = HyperparameterTuner(\n",
    "    estimator=linear_learner,\n",
    "    objective_metric_name=objective_metric_name,\n",
    "    hyperparameter_ranges=hyperparameter_ranges,\n",
    "    objective_type=objective_type,\n",
    "    max_jobs=10,            # Total number of training jobs to be run.\n",
    "    max_parallel_jobs=2,     # How many training jobs run in parallel.\n",
    ")\n",
    "\n",
    "# Create TrainingInput objects for tuning.\n",
    "train_input = TrainingInput(s3_data=train_uri, content_type=\"text/csv\")\n",
    "validation_input = TrainingInput(s3_data=validation_uri, content_type=\"text/csv\")\n",
    "\n",
    "# Launch the hyperparameter tuning job.\n",
    "tuner.fit({'train': train_input, 'validation': validation_input})\n",
    "print(\"Hyperparameter tuning job launched!\")\n"
   ]
  },
  {
   "cell_type": "markdown",
   "id": "ae8778d2-66af-423d-97f8-c0953bc0078e",
   "metadata": {},
   "source": [
    "# STEP 14: Hyperparameter Tuning\n",
    "\n",
    "Initializing a Sagemaker Session with the new tuned endpoint allowing me to query the new model and test it thoroughly."
   ]
  },
  {
   "cell_type": "code",
   "execution_count": 26,
   "id": "6034082b-2658-4f25-84d8-53695833346d",
   "metadata": {},
   "outputs": [
    {
     "data": {
      "text/html": [
       "<pre style=\"white-space:pre;overflow-x:auto;line-height:normal;font-family:Menlo,'DejaVu Sans Mono',consolas,'Courier New',monospace\"><span style=\"color: #7fbfbf; text-decoration-color: #7fbfbf\">[03/25/25 22:39:09] </span><span style=\"color: #0069ff; text-decoration-color: #0069ff; font-weight: bold\">INFO    </span> Endpoint <span style=\"color: #008700; text-decoration-color: #008700\">'binary-endpoint-tuned'</span> does not exist or has already been   <a href=\"file:///tmp/ipykernel_7504/3171786439.py\" target=\"_blank\"><span style=\"color: #7f7f7f; text-decoration-color: #7f7f7f\">3171786439.py</span></a><span style=\"color: #7f7f7f; text-decoration-color: #7f7f7f\">:</span><a href=\"file:///tmp/ipykernel_7504/3171786439.py#35\" target=\"_blank\"><span style=\"color: #7f7f7f; text-decoration-color: #7f7f7f\">35</span></a>\n",
       "<span style=\"color: #7fbfbf; text-decoration-color: #7fbfbf\">                    </span>         deleted.                                                              <span style=\"color: #7f7f7f; text-decoration-color: #7f7f7f\">                </span>\n",
       "</pre>\n"
      ],
      "text/plain": [
       "\u001b[2;36m[03/25/25 22:39:09]\u001b[0m\u001b[2;36m \u001b[0m\u001b[1;38;2;0;105;255mINFO    \u001b[0m Endpoint \u001b[38;2;0;135;0m'binary-endpoint-tuned'\u001b[0m does not exist or has already been   \u001b]8;id=630178;file:///tmp/ipykernel_7504/3171786439.py\u001b\\\u001b[2m3171786439.py\u001b[0m\u001b]8;;\u001b\\\u001b[2m:\u001b[0m\u001b]8;id=761421;file:///tmp/ipykernel_7504/3171786439.py#35\u001b\\\u001b[2m35\u001b[0m\u001b]8;;\u001b\\\n",
       "\u001b[2;36m                    \u001b[0m         deleted.                                                              \u001b[2m                \u001b[0m\n"
      ]
     },
     "metadata": {},
     "output_type": "display_data"
    },
    {
     "data": {
      "text/html": [
       "<pre style=\"white-space:pre;overflow-x:auto;line-height:normal;font-family:Menlo,'DejaVu Sans Mono',consolas,'Courier New',monospace\"><span style=\"color: #7fbfbf; text-decoration-color: #7fbfbf\">                    </span><span style=\"color: #0069ff; text-decoration-color: #0069ff; font-weight: bold\">INFO    </span> Endpoint config <span style=\"color: #008700; text-decoration-color: #008700\">'binary-endpoint-tuned'</span> does not exist or has already <a href=\"file:///tmp/ipykernel_7504/3171786439.py\" target=\"_blank\"><span style=\"color: #7f7f7f; text-decoration-color: #7f7f7f\">3171786439.py</span></a><span style=\"color: #7f7f7f; text-decoration-color: #7f7f7f\">:</span><a href=\"file:///tmp/ipykernel_7504/3171786439.py#46\" target=\"_blank\"><span style=\"color: #7f7f7f; text-decoration-color: #7f7f7f\">46</span></a>\n",
       "<span style=\"color: #7fbfbf; text-decoration-color: #7fbfbf\">                    </span>         been deleted.                                                         <span style=\"color: #7f7f7f; text-decoration-color: #7f7f7f\">                </span>\n",
       "</pre>\n"
      ],
      "text/plain": [
       "\u001b[2;36m                   \u001b[0m\u001b[2;36m \u001b[0m\u001b[1;38;2;0;105;255mINFO    \u001b[0m Endpoint config \u001b[38;2;0;135;0m'binary-endpoint-tuned'\u001b[0m does not exist or has already \u001b]8;id=770384;file:///tmp/ipykernel_7504/3171786439.py\u001b\\\u001b[2m3171786439.py\u001b[0m\u001b]8;;\u001b\\\u001b[2m:\u001b[0m\u001b]8;id=570704;file:///tmp/ipykernel_7504/3171786439.py#46\u001b\\\u001b[2m46\u001b[0m\u001b]8;;\u001b\\\n",
       "\u001b[2;36m                    \u001b[0m         been deleted.                                                         \u001b[2m                \u001b[0m\n"
      ]
     },
     "metadata": {},
     "output_type": "display_data"
    },
    {
     "data": {
      "text/html": [
       "<pre style=\"white-space:pre;overflow-x:auto;line-height:normal;font-family:Menlo,'DejaVu Sans Mono',consolas,'Courier New',monospace\"><span style=\"color: #7fbfbf; text-decoration-color: #7fbfbf\">                    </span><span style=\"color: #0069ff; text-decoration-color: #0069ff; font-weight: bold\">INFO    </span> Waiting for endpoint &amp; configuration to be deleted<span style=\"color: #808000; text-decoration-color: #808000\">...</span>                 <a href=\"file:///tmp/ipykernel_7504/3171786439.py\" target=\"_blank\"><span style=\"color: #7f7f7f; text-decoration-color: #7f7f7f\">3171786439.py</span></a><span style=\"color: #7f7f7f; text-decoration-color: #7f7f7f\">:</span><a href=\"file:///tmp/ipykernel_7504/3171786439.py#52\" target=\"_blank\"><span style=\"color: #7f7f7f; text-decoration-color: #7f7f7f\">52</span></a>\n",
       "</pre>\n"
      ],
      "text/plain": [
       "\u001b[2;36m                   \u001b[0m\u001b[2;36m \u001b[0m\u001b[1;38;2;0;105;255mINFO    \u001b[0m Waiting for endpoint & configuration to be deleted\u001b[33m...\u001b[0m                 \u001b]8;id=165184;file:///tmp/ipykernel_7504/3171786439.py\u001b\\\u001b[2m3171786439.py\u001b[0m\u001b]8;;\u001b\\\u001b[2m:\u001b[0m\u001b]8;id=10355;file:///tmp/ipykernel_7504/3171786439.py#52\u001b\\\u001b[2m52\u001b[0m\u001b]8;;\u001b\\\n"
      ]
     },
     "metadata": {},
     "output_type": "display_data"
    },
    {
     "data": {
      "text/html": [
       "<pre style=\"white-space:pre;overflow-x:auto;line-height:normal;font-family:Menlo,'DejaVu Sans Mono',consolas,'Courier New',monospace\"><span style=\"color: #7fbfbf; text-decoration-color: #7fbfbf\">[03/25/25 22:39:10] </span><span style=\"color: #0069ff; text-decoration-color: #0069ff; font-weight: bold\">INFO    </span> Endpoint and endpoint config fully deleted.                           <a href=\"file:///tmp/ipykernel_7504/3171786439.py\" target=\"_blank\"><span style=\"color: #7f7f7f; text-decoration-color: #7f7f7f\">3171786439.py</span></a><span style=\"color: #7f7f7f; text-decoration-color: #7f7f7f\">:</span><a href=\"file:///tmp/ipykernel_7504/3171786439.py#70\" target=\"_blank\"><span style=\"color: #7f7f7f; text-decoration-color: #7f7f7f\">70</span></a>\n",
       "</pre>\n"
      ],
      "text/plain": [
       "\u001b[2;36m[03/25/25 22:39:10]\u001b[0m\u001b[2;36m \u001b[0m\u001b[1;38;2;0;105;255mINFO    \u001b[0m Endpoint and endpoint config fully deleted.                           \u001b]8;id=112895;file:///tmp/ipykernel_7504/3171786439.py\u001b\\\u001b[2m3171786439.py\u001b[0m\u001b]8;;\u001b\\\u001b[2m:\u001b[0m\u001b]8;id=76849;file:///tmp/ipykernel_7504/3171786439.py#70\u001b\\\u001b[2m70\u001b[0m\u001b]8;;\u001b\\\n"
      ]
     },
     "metadata": {},
     "output_type": "display_data"
    },
    {
     "name": "stdout",
     "output_type": "stream",
     "text": [
      "\n",
      "2025-03-25 21:33:17 Starting - Found matching resource for reuse\n",
      "2025-03-25 21:33:17 Downloading - Downloading the training image\n",
      "2025-03-25 21:33:17 Training - Training image download completed. Training in progress.\n",
      "2025-03-25 21:33:17 Uploading - Uploading generated training model\n",
      "2025-03-25 21:33:17 Completed - Resource released due to keep alive period expiry\n"
     ]
    },
    {
     "data": {
      "text/html": [
       "<pre style=\"white-space:pre;overflow-x:auto;line-height:normal;font-family:Menlo,'DejaVu Sans Mono',consolas,'Courier New',monospace\"><span style=\"color: #7fbfbf; text-decoration-color: #7fbfbf\">[03/25/25 22:39:15] </span><span style=\"color: #0069ff; text-decoration-color: #0069ff; font-weight: bold\">INFO    </span> Creating model with name: linear-learner-<span style=\"color: #008080; text-decoration-color: #008080; font-weight: bold\">2025</span>-03-25-22-39-15-459       <a href=\"file:///home/ec2-user/anaconda3/envs/python3/lib/python3.10/site-packages/sagemaker/session.py\" target=\"_blank\"><span style=\"color: #7f7f7f; text-decoration-color: #7f7f7f\">session.py</span></a><span style=\"color: #7f7f7f; text-decoration-color: #7f7f7f\">:</span><a href=\"file:///home/ec2-user/anaconda3/envs/python3/lib/python3.10/site-packages/sagemaker/session.py#4094\" target=\"_blank\"><span style=\"color: #7f7f7f; text-decoration-color: #7f7f7f\">4094</span></a>\n",
       "</pre>\n"
      ],
      "text/plain": [
       "\u001b[2;36m[03/25/25 22:39:15]\u001b[0m\u001b[2;36m \u001b[0m\u001b[1;38;2;0;105;255mINFO    \u001b[0m Creating model with name: linear-learner-\u001b[1;36m2025\u001b[0m-03-25-22-39-15-459       \u001b]8;id=101100;file:///home/ec2-user/anaconda3/envs/python3/lib/python3.10/site-packages/sagemaker/session.py\u001b\\\u001b[2msession.py\u001b[0m\u001b]8;;\u001b\\\u001b[2m:\u001b[0m\u001b]8;id=708515;file:///home/ec2-user/anaconda3/envs/python3/lib/python3.10/site-packages/sagemaker/session.py#4094\u001b\\\u001b[2m4094\u001b[0m\u001b]8;;\u001b\\\n"
      ]
     },
     "metadata": {},
     "output_type": "display_data"
    },
    {
     "data": {
      "text/html": [
       "<pre style=\"white-space:pre;overflow-x:auto;line-height:normal;font-family:Menlo,'DejaVu Sans Mono',consolas,'Courier New',monospace\"><span style=\"color: #7fbfbf; text-decoration-color: #7fbfbf\">[03/25/25 22:39:16] </span><span style=\"color: #0069ff; text-decoration-color: #0069ff; font-weight: bold\">INFO    </span> Creating endpoint-config with name binary-endpoint-tuned               <a href=\"file:///home/ec2-user/anaconda3/envs/python3/lib/python3.10/site-packages/sagemaker/session.py\" target=\"_blank\"><span style=\"color: #7f7f7f; text-decoration-color: #7f7f7f\">session.py</span></a><span style=\"color: #7f7f7f; text-decoration-color: #7f7f7f\">:</span><a href=\"file:///home/ec2-user/anaconda3/envs/python3/lib/python3.10/site-packages/sagemaker/session.py#5937\" target=\"_blank\"><span style=\"color: #7f7f7f; text-decoration-color: #7f7f7f\">5937</span></a>\n",
       "</pre>\n"
      ],
      "text/plain": [
       "\u001b[2;36m[03/25/25 22:39:16]\u001b[0m\u001b[2;36m \u001b[0m\u001b[1;38;2;0;105;255mINFO    \u001b[0m Creating endpoint-config with name binary-endpoint-tuned               \u001b]8;id=841623;file:///home/ec2-user/anaconda3/envs/python3/lib/python3.10/site-packages/sagemaker/session.py\u001b\\\u001b[2msession.py\u001b[0m\u001b]8;;\u001b\\\u001b[2m:\u001b[0m\u001b]8;id=185104;file:///home/ec2-user/anaconda3/envs/python3/lib/python3.10/site-packages/sagemaker/session.py#5937\u001b\\\u001b[2m5937\u001b[0m\u001b]8;;\u001b\\\n"
      ]
     },
     "metadata": {},
     "output_type": "display_data"
    },
    {
     "data": {
      "text/html": [
       "<pre style=\"white-space:pre;overflow-x:auto;line-height:normal;font-family:Menlo,'DejaVu Sans Mono',consolas,'Courier New',monospace\"><span style=\"color: #7fbfbf; text-decoration-color: #7fbfbf\">                    </span><span style=\"color: #0069ff; text-decoration-color: #0069ff; font-weight: bold\">INFO    </span> Creating endpoint with name binary-endpoint-tuned                      <a href=\"file:///home/ec2-user/anaconda3/envs/python3/lib/python3.10/site-packages/sagemaker/session.py\" target=\"_blank\"><span style=\"color: #7f7f7f; text-decoration-color: #7f7f7f\">session.py</span></a><span style=\"color: #7f7f7f; text-decoration-color: #7f7f7f\">:</span><a href=\"file:///home/ec2-user/anaconda3/envs/python3/lib/python3.10/site-packages/sagemaker/session.py#4759\" target=\"_blank\"><span style=\"color: #7f7f7f; text-decoration-color: #7f7f7f\">4759</span></a>\n",
       "</pre>\n"
      ],
      "text/plain": [
       "\u001b[2;36m                   \u001b[0m\u001b[2;36m \u001b[0m\u001b[1;38;2;0;105;255mINFO    \u001b[0m Creating endpoint with name binary-endpoint-tuned                      \u001b]8;id=162101;file:///home/ec2-user/anaconda3/envs/python3/lib/python3.10/site-packages/sagemaker/session.py\u001b\\\u001b[2msession.py\u001b[0m\u001b]8;;\u001b\\\u001b[2m:\u001b[0m\u001b]8;id=940952;file:///home/ec2-user/anaconda3/envs/python3/lib/python3.10/site-packages/sagemaker/session.py#4759\u001b\\\u001b[2m4759\u001b[0m\u001b]8;;\u001b\\\n"
      ]
     },
     "metadata": {},
     "output_type": "display_data"
    },
    {
     "name": "stdout",
     "output_type": "stream",
     "text": [
      "----------!"
     ]
    },
    {
     "data": {
      "text/html": [
       "<pre style=\"white-space:pre;overflow-x:auto;line-height:normal;font-family:Menlo,'DejaVu Sans Mono',consolas,'Courier New',monospace\"><span style=\"color: #7fbfbf; text-decoration-color: #7fbfbf\">[03/25/25 22:44:47] </span><span style=\"color: #0069ff; text-decoration-color: #0069ff; font-weight: bold\">INFO    </span> Best model deployed to endpoint: binary-endpoint-tuned and ready for <a href=\"file:///tmp/ipykernel_7504/3171786439.py\" target=\"_blank\"><span style=\"color: #7f7f7f; text-decoration-color: #7f7f7f\">3171786439.py</span></a><span style=\"color: #7f7f7f; text-decoration-color: #7f7f7f\">:</span><a href=\"file:///tmp/ipykernel_7504/3171786439.py#128\" target=\"_blank\"><span style=\"color: #7f7f7f; text-decoration-color: #7f7f7f\">128</span></a>\n",
       "<span style=\"color: #7fbfbf; text-decoration-color: #7fbfbf\">                    </span>         inference.                                                           <span style=\"color: #7f7f7f; text-decoration-color: #7f7f7f\">                 </span>\n",
       "</pre>\n"
      ],
      "text/plain": [
       "\u001b[2;36m[03/25/25 22:44:47]\u001b[0m\u001b[2;36m \u001b[0m\u001b[1;38;2;0;105;255mINFO    \u001b[0m Best model deployed to endpoint: binary-endpoint-tuned and ready for \u001b]8;id=137396;file:///tmp/ipykernel_7504/3171786439.py\u001b\\\u001b[2m3171786439.py\u001b[0m\u001b]8;;\u001b\\\u001b[2m:\u001b[0m\u001b]8;id=761530;file:///tmp/ipykernel_7504/3171786439.py#128\u001b\\\u001b[2m128\u001b[0m\u001b]8;;\u001b\\\n",
       "\u001b[2;36m                    \u001b[0m         inference.                                                           \u001b[2m                 \u001b[0m\n"
      ]
     },
     "metadata": {},
     "output_type": "display_data"
    }
   ],
   "source": [
    "# -----------------------------------------------------------------------------\n",
    "# Initialize session and SageMaker client.\n",
    "# -----------------------------------------------------------------------------\n",
    "session = Session()  # High-level SageMaker session\n",
    "sm_client = boto3.client(\"sagemaker\")\n",
    "\n",
    "# Define a new endpoint name for the tuned model.\n",
    "endpoint_name = \"binary-endpoint-tuned\"\n",
    "\n",
    "# -----------------------------------------------------------------------------\n",
    "# 1. Built-in waiter for InService (helps waiting on creation)\n",
    "# -----------------------------------------------------------------------------\n",
    "endpoint_in_service_waiter = sm_client.get_waiter(\"endpoint_in_service\")\n",
    "\n",
    "def delete_endpoint_and_config(endpoint_name: str, wait_for_deletion: bool = True) -> None:\n",
    "    \"\"\"\n",
    "    Deletes an endpoint and its corresponding endpoint configuration (if they exist).\n",
    "    Optionally polls until resources are deleted.\n",
    "    \"\"\"\n",
    "    # 1. Delete endpoint (if it exists).\n",
    "    try:\n",
    "        endpoint_desc = sm_client.describe_endpoint(EndpointName=endpoint_name)\n",
    "        endpoint_status = endpoint_desc[\"EndpointStatus\"]\n",
    "\n",
    "        # If the endpoint is Creating or Updating, wait until it becomes InService.\n",
    "        if endpoint_status in (\"Creating\", \"Updating\"):\n",
    "            logger.info(f\"Endpoint '{endpoint_name}' is in '{endpoint_status}' state. Waiting before deletion.\")\n",
    "            endpoint_in_service_waiter.wait(EndpointName=endpoint_name)\n",
    "        \n",
    "        logger.info(f\"Deleting endpoint: {endpoint_name}\")\n",
    "        sm_client.delete_endpoint(EndpointName=endpoint_name)\n",
    "\n",
    "    except ClientError as e:\n",
    "        if e.response[\"Error\"][\"Code\"] == \"ValidationException\" and \"Could not find\" in e.response[\"Error\"][\"Message\"]:\n",
    "            logger.info(f\"Endpoint '{endpoint_name}' does not exist or has already been deleted.\")\n",
    "        else:\n",
    "            raise e\n",
    "\n",
    "    # 2. Delete endpoint configuration (if it exists).\n",
    "    try:\n",
    "        sm_client.describe_endpoint_config(EndpointConfigName=endpoint_name)\n",
    "        logger.info(f\"Deleting endpoint configuration: {endpoint_name}\")\n",
    "        sm_client.delete_endpoint_config(EndpointConfigName=endpoint_name)\n",
    "    except ClientError as e:\n",
    "        if e.response[\"Error\"][\"Code\"] == \"ValidationException\" and \"Could not find\" in e.response[\"Error\"][\"Message\"]:\n",
    "            logger.info(f\"Endpoint config '{endpoint_name}' does not exist or has already been deleted.\")\n",
    "        else:\n",
    "            raise e\n",
    "\n",
    "    # 3. Optionally poll for deletion.\n",
    "    if wait_for_deletion:\n",
    "        logger.info(\"Waiting for endpoint & configuration to be deleted...\")\n",
    "        for _ in range(30):\n",
    "            endpoint_exists = True\n",
    "            endpoint_config_exists = True\n",
    "\n",
    "            try:\n",
    "                sm_client.describe_endpoint(EndpointName=endpoint_name)\n",
    "            except ClientError as e:\n",
    "                if \"Could not find\" in e.response[\"Error\"][\"Message\"]:\n",
    "                    endpoint_exists = False\n",
    "\n",
    "            try:\n",
    "                sm_client.describe_endpoint_config(EndpointConfigName=endpoint_name)\n",
    "            except ClientError as e:\n",
    "                if \"Could not find\" in e.response[\"Error\"][\"Message\"]:\n",
    "                    endpoint_config_exists = False\n",
    "\n",
    "            if not endpoint_exists and not endpoint_config_exists:\n",
    "                logger.info(\"Endpoint and endpoint config fully deleted.\")\n",
    "                break\n",
    "\n",
    "            logger.info(\"Endpoint or endpoint config still deleting... sleeping 10s.\")\n",
    "            time.sleep(10)\n",
    "        else:\n",
    "            logger.warning(\"Endpoint or endpoint config not fully deleted after 30 checks.\")\n",
    "\n",
    "def delete_model(model_name: str, wait_for_deletion: bool = True) -> None:\n",
    "    \"\"\"\n",
    "    Deletes a SageMaker model if it exists. Optionally waits until it disappears.\n",
    "    \"\"\"\n",
    "    try:\n",
    "        sm_client.describe_model(ModelName=model_name)\n",
    "        logger.info(f\"Deleting model: {model_name}\")\n",
    "        sm_client.delete_model(ModelName=model_name)\n",
    "    except ClientError as e:\n",
    "        if \"Could not find\" in e.response[\"Error\"][\"Message\"]:\n",
    "            logger.info(f\"Model '{model_name}' does not exist or is already deleted.\")\n",
    "        else:\n",
    "            raise e\n",
    "\n",
    "    if wait_for_deletion:\n",
    "        for _ in range(20):\n",
    "            try:\n",
    "                sm_client.describe_model(ModelName=model_name)\n",
    "                logger.info(\"Model still deleting... sleeping 5s.\")\n",
    "                time.sleep(5)\n",
    "            except ClientError as e:\n",
    "                if \"Could not find\" in e.response[\"Error\"][\"Message\"]:\n",
    "                    logger.info(\"Model fully deleted.\")\n",
    "                    break\n",
    "        else:\n",
    "            logger.warning(\"Model was not deleted after waiting.\")\n",
    "\n",
    "# -----------------------------------------------------------------------------\n",
    "# Delete any existing endpoint and configuration with the same name.\n",
    "# -----------------------------------------------------------------------------\n",
    "delete_endpoint_and_config(endpoint_name)\n",
    "\n",
    "# -----------------------------------------------------------------------------\n",
    "# Retrieve the best estimator from the completed tuning job.\n",
    "# -----------------------------------------------------------------------------\n",
    "best_estimator = tuner.best_estimator()  # Assumes that 'tuner' is defined and tuning is complete\n",
    "\n",
    "# -----------------------------------------------------------------------------\n",
    "# Deploy the best model.\n",
    "# -----------------------------------------------------------------------------\n",
    "predictor = best_estimator.deploy(\n",
    "    initial_instance_count=1,\n",
    "    instance_type=\"ml.m5.large\",\n",
    "    endpoint_name=endpoint_name\n",
    ")\n",
    "\n",
    "# Set the serializer and deserializer for the predictor.\n",
    "predictor.serializer = CSVSerializer()\n",
    "predictor.deserializer = JSONDeserializer()\n",
    "\n",
    "logger.info(f\"Best model deployed to endpoint: {endpoint_name} and ready for inference.\")\n"
   ]
  },
  {
   "cell_type": "markdown",
   "id": "477ada7b-642d-46c7-91a4-88b77b6246b0",
   "metadata": {},
   "source": [
    "# STEP 15: Evaluating the Model\n",
    "# A) Confusion Matrix\n",
    "\n",
    "In order to test the model and analyze what it does excellently versus where the model lacks I calculate the accuracy, precision and recall. The overall accuracy of the model was a staggering 96.33% which is the total correct predictions of all of the tests. I do want to mention that as the dataset is imbalanced this may play a role in why the accuracy is so high. Next I analyzed the precision which was 79.79% which is still extremely high as this means that for all of positives it got almost 80% of them correct. After that I analyzed the recall of the model which ended up being 75%. This is an ok recall as these are the actual positive cases, but more importantly this indicates that there are a lot of false negatives which means that the model is explaining that the model is flagging more cases that are not fraud which is much better than the opposite."
   ]
  },
  {
   "cell_type": "code",
   "execution_count": 33,
   "id": "f95e1b7a-e592-4698-819a-cf1cd21e0d33",
   "metadata": {},
   "outputs": [
    {
     "name": "stdout",
     "output_type": "stream",
     "text": [
      "\n",
      " **Evaluation Metrics:**\n",
      "  Accuracy:  0.9633\n",
      "  Precision: 0.7979\n",
      "  Recall:    0.7500\n",
      "  F1 Score:  0.7732\n",
      "\n",
      "**Classification Report:**\n",
      "              precision    recall  f1-score   support\n",
      "\n",
      "           0       0.98      0.98      0.98      5500\n",
      "           1       0.80      0.75      0.77       500\n",
      "\n",
      "    accuracy                           0.96      6000\n",
      "   macro avg       0.89      0.87      0.88      6000\n",
      "weighted avg       0.96      0.96      0.96      6000\n",
      "\n",
      "\n",
      "**Confusion Matrix (Raw Values):**\n",
      "[[5405   95]\n",
      " [ 125  375]]\n"
     ]
    },
    {
     "data": {
      "image/png": "[encoded data removed]",
      "text/plain": [
       "<Figure size 600x500 with 2 Axes>"
      ]
     },
     "metadata": {},
     "output_type": "display_data"
    },
    {
     "name": "stdout",
     "output_type": "stream",
     "text": [
      "{'Accuracy': 0.9633333333333334, 'Precision': 0.7978723404255319, 'Recall': 0.75, 'F1 Score': 0.7731958762886598}\n"
     ]
    }
   ],
   "source": [
    "def evaluate_deployed_classifier(predictor, X_val, y_val):\n",
    "    \"\"\"\n",
    "    Evaluate the deployed classification model on the test set.\n",
    "\n",
    "    Fixes:\n",
    "      - Extracts only 'predicted_label'.\n",
    "      - Limits printed output for readability.\n",
    "      - Handles unexpected response formats safely.\n",
    "\n",
    "    Parameters:\n",
    "      predictor: SageMaker Predictor object for the deployed model.\n",
    "      X_val (pd.DataFrame): Test features.\n",
    "      y_val (pd.Series): True labels.\n",
    "\n",
    "    Returns:\n",
    "      dict: Evaluation metrics (Accuracy, Precision, Recall, F1 Score)\n",
    "    \"\"\"\n",
    "\n",
    "    # Ensure the predictor uses the correct serialization\n",
    "    predictor.serializer = CSVSerializer()\n",
    "\n",
    "    # Copy test features and labels\n",
    "    X_test = X_val.copy()\n",
    "    y_test = y_val.copy()\n",
    "\n",
    "    # Get predictions from the deployed endpoint\n",
    "    predictions = predictor.predict(X_test.values)\n",
    "\n",
    "    # Ensure correct extraction of predicted labels\n",
    "    try:\n",
    "        predicted_labels = [int(result[\"predicted_label\"]) for result in predictions[\"predictions\"]]\n",
    "    except (KeyError, TypeError) as e:\n",
    "        print(f\"Error extracting predictions: {e}\")\n",
    "        return None  # Stop execution if predictions are not correctly formatted\n",
    "\n",
    "    # Compute evaluation metrics\n",
    "    acc = accuracy_score(y_test, predicted_labels)\n",
    "    prec = precision_score(y_test, predicted_labels, zero_division=0)\n",
    "    rec = recall_score(y_test, predicted_labels, zero_division=0)\n",
    "    f1 = f1_score(y_test, predicted_labels, zero_division=0)\n",
    "\n",
    "    # Print evaluation metrics\n",
    "    print(\"\\n **Evaluation Metrics:**\")\n",
    "    print(f\"  Accuracy:  {acc:.4f}\")\n",
    "    print(f\"  Precision: {prec:.4f}\")\n",
    "    print(f\"  Recall:    {rec:.4f}\")\n",
    "    print(f\"  F1 Score:  {f1:.4f}\\n\")\n",
    "\n",
    "    # Print detailed classification report\n",
    "    print(\"**Classification Report:**\")\n",
    "    print(classification_report(y_test, predicted_labels))\n",
    "\n",
    "    # Compute and visualize the confusion matrix\n",
    "    cm = confusion_matrix(y_test, predicted_labels)\n",
    "    print(\"\\n**Confusion Matrix (Raw Values):**\")\n",
    "    print(cm)\n",
    "\n",
    "    # Confusion Matrix with percentages for better readability\n",
    "    cm_percent = cm.astype('float') / cm.sum(axis=1)[:, np.newaxis]  # Normalize per class\n",
    "    plt.figure(figsize=(6, 5))\n",
    "    sns.heatmap(cm_percent, annot=True, fmt=\".2%\", cmap=\"Blues\",\n",
    "                xticklabels=[\"NF\", \"F\"],\n",
    "                yticklabels=[\"NF\", \"F\"])\n",
    "    plt.title(\"Confusion Matrix (Percentage)\")\n",
    "    plt.ylabel(\"True Label\")\n",
    "    plt.xlabel(\"Predicted Label\")\n",
    "    plt.show()\n",
    "\n",
    "    # Return computed evaluation metrics\n",
    "    return {\n",
    "        \"Accuracy\": acc,\n",
    "        \"Precision\": prec,\n",
    "        \"Recall\": rec,\n",
    "        \"F1 Score\": f1\n",
    "    }\n",
    "\n",
    "# Example call:\n",
    "# Replace 'predictor', 'X_val', and 'y_val' with actual objects\n",
    "metrics = evaluate_deployed_classifier(predictor, X_val, y_val)\n",
    "print(metrics)\n"
   ]
  },
  {
   "cell_type": "markdown",
   "id": "68572358-9592-4dcb-afa7-2b67f9816abd",
   "metadata": {},
   "source": [
    "# B) Test the first five rows"
   ]
  },
  {
   "cell_type": "code",
   "execution_count": 34,
   "id": "b97ef1ed-df72-4661-9408-d5873e2f09de",
   "metadata": {},
   "outputs": [
    {
     "name": "stdout",
     "output_type": "stream",
     "text": [
      "\n",
      "Test Probabilities on 5 samples: [0.018543362617492676, 0.031032759696245193, 0.0314679816365242, 0.04325011372566223, 0.02398781105875969]\n",
      "Test Predicted Classes on 5 samples: [0, 0, 0, 0, 0]\n",
      "Actual: [0, 0, 0, 0, 0]\n"
     ]
    }
   ],
   "source": [
    "\"\"\"\n",
    "Module: Model Prediction and Evaluation for Binary Classification using SageMaker Predictor\n",
    "\n",
    "This module shows how to obtain predictions from a deployed SageMaker predictor for a binary classification task.\n",
    "It selects the first 5 rows from the test set, sends them to the endpoint in CSV format,\n",
    "extracts the predicted probabilities, converts them to binary labels using a threshold, and compares the predictions\n",
    "with the actual target values.\n",
    "\"\"\"\n",
    "\n",
    "# Select the first 5 rows from the test set for evaluation.\n",
    "sample_data = X_val.head(5)\n",
    "\n",
    "# Convert the selected data to a NumPy array.\n",
    "# This format is required by the predictor's CSVSerializer.\n",
    "input_data = sample_data.values\n",
    "\n",
    "# Request predictions from the deployed endpoint using the sample data.\n",
    "predictions = predictor.predict(input_data)\n",
    "\n",
    "# Process the response if it contains the 'predictions' key.\n",
    "if \"predictions\" in predictions:\n",
    "    # Extract the predicted probabilities from each result.\n",
    "    y_pred_test_probs = [float(result[\"score\"]) for result in predictions[\"predictions\"]]\n",
    "    \n",
    "    # Define a threshold to convert probabilities into binary class labels.\n",
    "    threshold = 0.5\n",
    "    # Convert probabilities to binary labels: 1 if above the threshold, else 0.\n",
    "    y_pred_test_classes = [1 if prob > threshold else 0 for prob in y_pred_test_probs]\n",
    "    \n",
    "    print(\"\\nTest Probabilities on 5 samples:\", y_pred_test_probs)\n",
    "    print(\"Test Predicted Classes on 5 samples:\", y_pred_test_classes)\n",
    "else:\n",
    "    print(\"No 'predictions' key found in the response:\", predictions)\n",
    "\n",
    "# Retrieve the actual target values for the selected sample data.\n",
    "sample_targets = y_val.loc[sample_data.index]\n",
    "print(\"Actual:\", sample_targets.tolist())\n"
   ]
  },
  {
   "cell_type": "markdown",
   "id": "a7f7f3f7-ac36-46f1-ac41-3b2a78ee3977",
   "metadata": {},
   "source": [
    "# Step 16: Delete the endpoint"
   ]
  },
  {
   "cell_type": "code",
   "execution_count": 35,
   "id": "269767ae-9aea-41d5-86d0-49d87bc3df4c",
   "metadata": {},
   "outputs": [
    {
     "name": "stdout",
     "output_type": "stream",
     "text": [
      "Deleted endpoint: binary-endpoint-tuned\n",
      "Deleted endpoint config: binary-endpoint-tuned\n"
     ]
    }
   ],
   "source": [
    "\"\"\"\n",
    "Module: SageMaker Endpoint and Configuration Deletion\n",
    "\n",
    "This module defines a function to delete a SageMaker endpoint and its corresponding endpoint configuration.\n",
    "It first attempts to describe each resource to verify its existence, then deletes it if found.\n",
    "If a resource is not found, it prints a message indicating so and continues without raising an error.\n",
    "\"\"\"\n",
    "\n",
    "def delete_sagemaker_endpoint_and_config(sm_client, endpoint_name, endpoint_config_name):\n",
    "    \"\"\"\n",
    "    Delete a SageMaker endpoint and its configuration if they exist.\n",
    "\n",
    "    Parameters:\n",
    "        sm_client: Boto3 client for SageMaker.\n",
    "        endpoint_name (str): The name of the endpoint to delete.\n",
    "        endpoint_config_name (str): The name of the endpoint configuration to delete.\n",
    "    \"\"\"\n",
    "    # Delete the endpoint.\n",
    "    try:\n",
    "        # Attempt to describe the endpoint to check if it exists.\n",
    "        sm_client.describe_endpoint(EndpointName=endpoint_name)\n",
    "        # If no exception, proceed to delete the endpoint.\n",
    "        sm_client.delete_endpoint(EndpointName=endpoint_name)\n",
    "        print(f\"Deleted endpoint: {endpoint_name}\")\n",
    "    except sm_client.exceptions.ClientError as e:\n",
    "        # If the endpoint is not found, inform the user and continue.\n",
    "        if \"Could not find endpoint\" in str(e) or \"ResourceNotFound\" in str(e):\n",
    "            print(f\"Endpoint '{endpoint_name}' does not exist.\")\n",
    "        else:\n",
    "            raise e\n",
    "\n",
    "    # Delete the endpoint configuration.\n",
    "    try:\n",
    "        # Attempt to describe the endpoint configuration to check if it exists.\n",
    "        sm_client.describe_endpoint_config(EndpointConfigName=endpoint_config_name)\n",
    "        # If no exception, proceed to delete the endpoint configuration.\n",
    "        sm_client.delete_endpoint_config(EndpointConfigName=endpoint_config_name)\n",
    "        print(f\"Deleted endpoint config: {endpoint_config_name}\")\n",
    "    except sm_client.exceptions.ClientError as e:\n",
    "        # If the endpoint configuration is not found, inform the user and continue.\n",
    "        if \"Could not find endpoint configuration\" in str(e) or \"ResourceNotFound\" in str(e):\n",
    "            print(f\"Endpoint config '{endpoint_config_name}' does not exist.\")\n",
    "        else:\n",
    "            raise e\n",
    "\n",
    "# Automatically delete the endpoint and its configuration.\n",
    "delete_sagemaker_endpoint_and_config(sm_client, endpoint_name, endpoint_config_name=\"binary-endpoint-tuned\")\n"
   ]
  }
 ],
 "metadata": {
  "kernelspec": {
   "display_name": "conda_python3",
   "language": "python",
   "name": "conda_python3"
  },
  "language_info": {
   "codemirror_mode": {
    "name": "ipython",
    "version": 3
   },
   "file_extension": ".py",
   "mimetype": "text/x-python",
   "name": "python",
   "nbconvert_exporter": "python",
   "pygments_lexer": "ipython3",
   "version": "3.10.16"
  }
 },
 "nbformat": 4,
 "nbformat_minor": 5
}
