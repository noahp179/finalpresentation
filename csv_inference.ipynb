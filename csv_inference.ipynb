{
 "cells": [
  {
   "cell_type": "code",
   "execution_count": 6,
   "id": "cab0367b-b214-4bdc-82d9-7606444bfefc",
   "metadata": {},
   "outputs": [
    {
     "data": {
      "text/html": [
       "<pre style=\"white-space:pre;overflow-x:auto;line-height:normal;font-family:Menlo,'DejaVu Sans Mono',consolas,'Courier New',monospace\"><span style=\"color: #7fbfbf; text-decoration-color: #7fbfbf\">[03/28/25 00:45:09] </span><span style=\"color: #0069ff; text-decoration-color: #0069ff; font-weight: bold\">INFO    </span> Found credentials from IAM Role:                                   <a href=\"file:///home/ec2-user/anaconda3/envs/python3/lib/python3.10/site-packages/botocore/credentials.py\" target=\"_blank\"><span style=\"color: #7f7f7f; text-decoration-color: #7f7f7f\">credentials.py</span></a><span style=\"color: #7f7f7f; text-decoration-color: #7f7f7f\">:</span><a href=\"file:///home/ec2-user/anaconda3/envs/python3/lib/python3.10/site-packages/botocore/credentials.py#1132\" target=\"_blank\"><span style=\"color: #7f7f7f; text-decoration-color: #7f7f7f\">1132</span></a>\n",
       "<span style=\"color: #7fbfbf; text-decoration-color: #7fbfbf\">                    </span>         BaseNotebookInstanceEc2InstanceRole                                <span style=\"color: #7f7f7f; text-decoration-color: #7f7f7f\">                   </span>\n",
       "</pre>\n"
      ],
      "text/plain": [
       "\u001b[2;36m[03/28/25 00:45:09]\u001b[0m\u001b[2;36m \u001b[0m\u001b[1;38;2;0;105;255mINFO    \u001b[0m Found credentials from IAM Role:                                   \u001b]8;id=761923;file:///home/ec2-user/anaconda3/envs/python3/lib/python3.10/site-packages/botocore/credentials.py\u001b\\\u001b[2mcredentials.py\u001b[0m\u001b]8;;\u001b\\\u001b[2m:\u001b[0m\u001b]8;id=850907;file:///home/ec2-user/anaconda3/envs/python3/lib/python3.10/site-packages/botocore/credentials.py#1132\u001b\\\u001b[2m1132\u001b[0m\u001b]8;;\u001b\\\n",
       "\u001b[2;36m                    \u001b[0m         BaseNotebookInstanceEc2InstanceRole                                \u001b[2m                   \u001b[0m\n"
      ]
     },
     "metadata": {},
     "output_type": "display_data"
    },
    {
     "name": "stdout",
     "output_type": "stream",
     "text": [
      "✅ Columns used for scaling and PCA:\n",
      "['cc_num', 'amt', 'zip', 'trans_date_trans_time_freq', 'merchant_freq', 'category_freq', 'trans_num_freq']\n"
     ]
    },
    {
     "name": "stderr",
     "output_type": "stream",
     "text": [
      "Inferencing...: 100%|██████████| 24/24 [00:00<00:00, 81.31it/s]\n"
     ]
    },
    {
     "name": "stdout",
     "output_type": "stream",
     "text": [
      "✅ Inference completed on all rows.\n",
      "\n",
      "  Sample    Actual    Distance    Predicted  Match\n",
      "--------  --------  ----------  -----------  -------\n",
      "       1         1      3.1375            1  ✅\n",
      "       2         1      3.2945            1  ✅\n",
      "       3         0      2.9709            0  ✅\n",
      "       4         0      2.8925            0  ✅\n",
      "       5         0      3.8269            1  ❌\n",
      "       6         0      0.7626            0  ✅\n",
      "       7         1      3.6948            1  ✅\n",
      "       8         0      2.3455            0  ✅\n",
      "       9         1      3.354             1  ✅\n",
      "      10         0      0.4069            0  ✅\n",
      "      11         1      3.2889            1  ✅\n",
      "      12         0      2.2282            0  ✅\n",
      "      13         0      3.7642            1  ❌\n",
      "      14         1      4.236             1  ✅\n",
      "      15         1      3.609             1  ✅\n",
      "      16         0      2.6543            0  ✅\n",
      "      17         1      3.7471            1  ✅\n",
      "      18         1      4.3039            1  ✅\n",
      "      19         1      3.5133            1  ✅\n",
      "      20         0      2.8573            0  ✅\n",
      "      21         0      2.9665            0  ✅\n",
      "      22         0      2.5997            0  ✅\n",
      "      23         1      3.5425            1  ✅\n",
      "      24         0      2.6957            0  ✅\n",
      "\n",
      "✅ Accuracy: 91.67% (22/24)\n"
     ]
    }
   ],
   "source": [
    "import pandas as pd\n",
    "import numpy as np\n",
    "import pickle\n",
    "import json\n",
    "from sagemaker.predictor import Predictor\n",
    "from sagemaker.serializers import CSVSerializer\n",
    "from sklearn.metrics import f1_score, precision_score, recall_score\n",
    "from tabulate import tabulate\n",
    "from tqdm import tqdm\n",
    "\n",
    "# Load trained preprocessing models\n",
    "with open(\"scaler.pkl\", \"rb\") as f:\n",
    "    scaler = pickle.load(f)\n",
    "with open(\"pca.pkl\", \"rb\") as f:\n",
    "    pca = pickle.load(f)\n",
    "\n",
    "# Load frequency maps\n",
    "with open(\"frequency_maps.pkl\", \"rb\") as f:\n",
    "    freq_maps = pickle.load(f)\n",
    "\n",
    "predictor = Predictor(endpoint_name=\"kmeans\", serializer=CSVSerializer())\n",
    "\n",
    "# Load dataset\n",
    "dataset = pd.read_csv(\"./fraudValidation.csv\")\n",
    "\n",
    "def encode_categorical_features(dataframe):\n",
    "    \"\"\"\n",
    "    Apply frequency encoding using pre-saved frequency maps.\n",
    "    Fill missing (unseen) values with 0.\n",
    "    \"\"\"\n",
    "    cat_cols = dataframe.select_dtypes(include=[\"object\"]).columns\n",
    "    freq_frames = {}\n",
    "\n",
    "    for col in cat_cols:\n",
    "        if col in freq_maps:\n",
    "            mapped_col = dataframe[col].map(freq_maps[col])\n",
    "            freq_frames[col + \"_freq\"] = mapped_col.fillna(0)\n",
    "        else:\n",
    "            print(f\"Warning: Column '{col}' not found in frequency map. Filling with 0.\")\n",
    "            freq_frames[col + \"_freq\"] = pd.Series(0, index=dataframe.index)\n",
    "\n",
    "    if freq_frames:\n",
    "        freq_df = pd.DataFrame(freq_frames, index=dataframe.index)\n",
    "        dataframe = pd.concat([dataframe, freq_df], axis=1)\n",
    "\n",
    "    dataframe.drop(columns=cat_cols, inplace=True)\n",
    "    return dataframe\n",
    "\n",
    "def preprocess(df):\n",
    "    keep = ['trans_date_trans_time', 'cc_num', 'merchant', 'category', 'amt', 'zip', 'trans_num', 'is_fraud']\n",
    "    df = df[keep].copy()\n",
    "    df_encoded = encode_categorical_features(df.copy())\n",
    "    X = df_encoded.drop(columns=['is_fraud'])\n",
    "    y = df_encoded['is_fraud'].values\n",
    "\n",
    "    print(\"✅ Columns used for scaling and PCA:\")\n",
    "    print(X.columns.tolist())\n",
    "\n",
    "    X_scaled = scaler.transform(X)\n",
    "    X_pca = pca.transform(X_scaled)\n",
    "    return X_pca, y\n",
    "\n",
    "# Inference\n",
    "threshold = 3.0\n",
    "X_pca, y_true = preprocess(dataset)\n",
    "\n",
    "correct = 0\n",
    "results = []\n",
    "\n",
    "# Run inference with progress bar\n",
    "for i, (row, actual) in enumerate(tqdm(zip(X_pca, y_true), total=len(y_true), desc=\"Inferencing...\"), start=1):\n",
    "    payload = \",\".join(map(str, row)) + \"\\n\"\n",
    "    resp = json.loads(predictor.predict(payload))['predictions'][0]\n",
    "    distance = resp.get('distance_to_cluster')\n",
    "    predicted = 1 if distance > threshold else 0\n",
    "    match = \"✅\" if predicted == actual else \"❌\"\n",
    "    if predicted == actual:\n",
    "        correct += 1\n",
    "    results.append([i, actual, f\"{distance:.4f}\", predicted, match])\n",
    "\n",
    "print(\" Inference completed on all rows.\\n\")\n",
    "\n",
    "# Output results\n",
    "headers = [\"Sample\", \"Actual\", \"Distance\", \"Predicted\", \"Match\"]\n",
    "print(tabulate(results, headers=headers))\n",
    "\n",
    "# Accuracy\n",
    "accuracy = correct / len(dataset)\n",
    "print(f\"\\n Accuracy: {accuracy:.2%} ({correct}/{len(dataset)})\")\n"
   ]
  },
  {
   "cell_type": "code",
   "execution_count": null,
   "id": "35ff3111-7188-41f3-a71d-82cf9f022afb",
   "metadata": {},
   "outputs": [],
   "source": []
  }
 ],
 "metadata": {
  "kernelspec": {
   "display_name": "conda_python3",
   "language": "python",
   "name": "conda_python3"
  },
  "language_info": {
   "codemirror_mode": {
    "name": "ipython",
    "version": 3
   },
   "file_extension": ".py",
   "mimetype": "text/x-python",
   "name": "python",
   "nbconvert_exporter": "python",
   "pygments_lexer": "ipython3",
   "version": "3.10.16"
  }
 },
 "nbformat": 4,
 "nbformat_minor": 5
}
